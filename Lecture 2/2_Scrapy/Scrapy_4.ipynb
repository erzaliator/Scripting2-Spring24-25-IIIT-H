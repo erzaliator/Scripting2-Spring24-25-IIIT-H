{
 "cells": [
  {
   "cell_type": "markdown",
   "metadata": {},
   "source": [
    "# Scrapy Selectors 👉"
   ]
  },
  {
   "cell_type": "markdown",
   "metadata": {},
   "source": [
    "## Response Objects"
   ]
  },
  {
   "cell_type": "markdown",
   "metadata": {},
   "source": [
    "The Scrapy ```Response``` object is a crucial component in the Scrapy framework, representing the HTTP response received after making a request. It encapsulates the content of the page, along with various attributes and methods that facilitate data extraction and manipulation."
   ]
  },
  {
   "cell_type": "markdown",
   "metadata": {},
   "source": [
    "## Key Attributes of the Response Object\n",
    "\n",
    "\n",
    "* url: The URL of the response. This is particularly useful for logging and debugging purposes.\n",
    "*    status: The HTTP status code of the response, which can help determine if the request was successful (e.g., 200) or if there were issues (e.g., 404, 500).\n",
    "*    body: The raw bytes of the response content. This can be used to access the content directly, especially when dealing with binary data.\n",
    "*    text: A convenience property that decodes the response body to a string using the response's encoding.\n",
    "*    headers: A dictionary-like object containing the response headers, which can provide additional context about the response.\n"
   ]
  },
  {
   "cell_type": "markdown",
   "metadata": {},
   "source": [
    "## Common Methods\n",
    "\n",
    "The Response object also provides several methods that enhance its functionality:\n",
    "\n",
    "*    ```css()```: This method allows you to select elements from the response using CSS selectors. It returns a SelectorList, which can be further processed to extract data.\n",
    "*    ```xpath()```: Similar to ```css()```, this method uses XPath expressions to select elements from the response. This is particularly useful for XML or HTML documents where XPath is preferred.\n",
    "*    ```json()```: If the response content is in JSON format, this method can be used to parse the JSON and return it as a Python dictionary.\n",
    "\n"
   ]
  },
  {
   "cell_type": "code",
   "execution_count": null,
   "metadata": {},
   "outputs": [],
   "source": []
  },
  {
   "cell_type": "markdown",
   "metadata": {},
   "source": [
    "You can create an ```HtmlResponse``` object by passing the URL and the HTML content as follows:"
   ]
  },
  {
   "cell_type": "code",
   "execution_count": 1,
   "metadata": {},
   "outputs": [],
   "source": [
    "from scrapy.http import HtmlResponse\n",
    "\n",
    "url = 'http://example.com'\n",
    "html_content = '<html><body><h1>Hello, World!</h1></body></html>'\n",
    "response = HtmlResponse(url=url, body=html_content, encoding='utf-8')"
   ]
  },
  {
   "cell_type": "markdown",
   "metadata": {},
   "source": [
    "This code snippet initializes an HtmlResponse object with the specified URL and HTML body. \n",
    "The encoding parameter ensures that the response is correctly interpreted."
   ]
  },
  {
   "cell_type": "markdown",
   "metadata": {},
   "source": [
    "Once you have an ```HtmlResponse``` object, you can access the response body using the ```.body``` attribute. This attribute contains the raw HTML content, which can be useful for debugging or logging purposes:"
   ]
  },
  {
   "cell_type": "code",
   "execution_count": 10,
   "metadata": {},
   "outputs": [
    {
     "name": "stdout",
     "output_type": "stream",
     "text": [
      "b'<html><body><h1>Hello, World!</h1></body></html>'\n"
     ]
    }
   ],
   "source": [
    "print(response.body)"
   ]
  },
  {
   "cell_type": "markdown",
   "metadata": {},
   "source": [
    "The ```HtmlResponse``` object provides a ```.selector``` attribute, which is an instance of ```scrapy.Selector```. This allows you to use **XPath** or **CSS** selectors to extract data from the HTML:"
   ]
  },
  {
   "cell_type": "markdown",
   "metadata": {},
   "source": [
    "### Example of Using XPath\n",
    "\n",
    "To extract the text from the \\<h1\\> tag, you can use the following ```XPath``` expression:"
   ]
  },
  {
   "cell_type": "code",
   "execution_count": 11,
   "metadata": {},
   "outputs": [
    {
     "name": "stdout",
     "output_type": "stream",
     "text": [
      "Hello, World!\n"
     ]
    }
   ],
   "source": [
    "h1_text = response.selector.xpath('//h1/text()').get()\n",
    "print(h1_text)  # Output: Hello, World!\n"
   ]
  },
  {
   "cell_type": "markdown",
   "metadata": {},
   "source": [
    "### Example of Using CSS\n",
    "\n",
    "Alternatively, you can achieve the same result using **CSS** selectors. "
   ]
  },
  {
   "cell_type": "code",
   "execution_count": 12,
   "metadata": {},
   "outputs": [
    {
     "name": "stdout",
     "output_type": "stream",
     "text": [
      "Hello, World!\n"
     ]
    }
   ],
   "source": [
    "h1_text_css = response.css('h1::text').get()\n",
    "print(h1_text_css)  # Output: Hello, World!"
   ]
  },
  {
   "cell_type": "code",
   "execution_count": 14,
   "metadata": {},
   "outputs": [
    {
     "name": "stdout",
     "output_type": "stream",
     "text": [
      "None\n"
     ]
    }
   ],
   "source": [
    "h1_text_css = response.selector.css('h1::text').get()\n",
    "print(h1_text_css)  # Output: Hello, World!"
   ]
  },
  {
   "cell_type": "code",
   "execution_count": null,
   "metadata": {},
   "outputs": [],
   "source": []
  },
  {
   "cell_type": "markdown",
   "metadata": {},
   "source": [
    "# More selector examples"
   ]
  },
  {
   "cell_type": "code",
   "execution_count": 22,
   "metadata": {},
   "outputs": [],
   "source": [
    "# \"\"\" are used to create multiline strings or even comments\n",
    "\n",
    "\"\"\"this is a multiline \n",
    "comment. It is very helpful in writing \n",
    "leghthy function descriptions. The\n",
    "next example is a how to initialize\n",
    "a string with multiple lines.\"\"\"\n",
    "\n",
    "\n",
    "html_content = \"\"\"\n",
    "<!DOCTYPE html>\n",
    "\n",
    "<html>\n",
    "  <head>\n",
    "    <base href='http://example.com/' />\n",
    "    <title>Example website</title>\n",
    "  </head>\n",
    "  <body>\n",
    "    <div id='images'>\n",
    "      <a href='image1.html'>Name: My image 1 <br /><img src='image1_thumb.jpg' alt='image1'/></a>\n",
    "      <a href='image2.html'>Name: My image 2 <br /><img src='image2_thumb.jpg' alt='image2'/></a>\n",
    "      <a href='image3.html'>Name: My image 3 <br /><img src='image3_thumb.jpg' alt='image3'/></a>\n",
    "      <a href='image4.html'>Name: My image 4 <br /><img src='image4_thumb.jpg' alt='image4'/></a>\n",
    "      <a href='image5.html'>Name: My image 5 <br /><img src='image5_thumb.jpg' alt='image5'/></a>\n",
    "    </div>\n",
    "  </body>\n",
    "</html>\n",
    "\"\"\""
   ]
  },
  {
   "cell_type": "markdown",
   "metadata": {},
   "source": [
    "So, by looking at the HTML code of that page, let’s construct an XPath for selecting the text inside the title tag:"
   ]
  },
  {
   "cell_type": "code",
   "execution_count": 23,
   "metadata": {},
   "outputs": [
    {
     "data": {
      "text/plain": [
       "[<Selector query='//title/text()' data='Example website'>]"
      ]
     },
     "execution_count": 23,
     "metadata": {},
     "output_type": "execute_result"
    }
   ],
   "source": [
    "url = 'http://example.com'\n",
    "response = HtmlResponse(url=url, body=html_content, encoding='utf-8')\n",
    "response.xpath(\"//title/text()\")"
   ]
  },
  {
   "cell_type": "code",
   "execution_count": null,
   "metadata": {},
   "outputs": [],
   "source": [
    "To actually extract the textual data, you must call the selector ```.get()``` or ```.getall()``` methods, as follows:"
   ]
  },
  {
   "cell_type": "code",
   "execution_count": 24,
   "metadata": {},
   "outputs": [
    {
     "data": {
      "text/plain": [
       "['Example website']"
      ]
     },
     "execution_count": 24,
     "metadata": {},
     "output_type": "execute_result"
    }
   ],
   "source": [
    "response.xpath(\"//title/text()\").getall()"
   ]
  },
  {
   "cell_type": "code",
   "execution_count": 25,
   "metadata": {},
   "outputs": [
    {
     "data": {
      "text/plain": [
       "'Example website'"
      ]
     },
     "execution_count": 25,
     "metadata": {},
     "output_type": "execute_result"
    }
   ],
   "source": [
    "response.xpath(\"//title/text()\").get()"
   ]
  },
  {
   "cell_type": "markdown",
   "metadata": {},
   "source": [
    "```.get()``` always returns a single result; if there are several matches, content of a first match is returned; \n",
    "if there are no matches, None is returned. \n",
    "\n",
    "```.getall()``` returns a list with all results."
   ]
  },
  {
   "cell_type": "markdown",
   "metadata": {},
   "source": [
    "Notice that CSS selectors can select text or attribute nodes using CSS3 pseudo-elements:"
   ]
  },
  {
   "cell_type": "code",
   "execution_count": 26,
   "metadata": {},
   "outputs": [
    {
     "data": {
      "text/plain": [
       "'Example website'"
      ]
     },
     "execution_count": 26,
     "metadata": {},
     "output_type": "execute_result"
    }
   ],
   "source": [
    "response.css(\"title::text\").get()"
   ]
  },
  {
   "cell_type": "markdown",
   "metadata": {},
   "source": [
    "As you can see, ```.xpath()``` and ```.css()``` methods return a ```SelectorList``` instance, which is a list of new selectors. \n",
    "This API can be used for quickly selecting nested data:"
   ]
  },
  {
   "cell_type": "code",
   "execution_count": 27,
   "metadata": {},
   "outputs": [
    {
     "data": {
      "text/plain": [
       "['image1_thumb.jpg',\n",
       " 'image2_thumb.jpg',\n",
       " 'image3_thumb.jpg',\n",
       " 'image4_thumb.jpg',\n",
       " 'image5_thumb.jpg']"
      ]
     },
     "execution_count": 27,
     "metadata": {},
     "output_type": "execute_result"
    }
   ],
   "source": [
    "response.css(\"img\").xpath(\"@src\").getall()"
   ]
  },
  {
   "cell_type": "markdown",
   "metadata": {},
   "source": [
    "If you want to extract only the first matched element, you can call the selector ```.get()``` :"
   ]
  },
  {
   "cell_type": "code",
   "execution_count": 28,
   "metadata": {},
   "outputs": [
    {
     "data": {
      "text/plain": [
       "'Name: My image 1 '"
      ]
     },
     "execution_count": 28,
     "metadata": {},
     "output_type": "execute_result"
    }
   ],
   "source": [
    "response.xpath('//div[@id=\"images\"]/a/text()').get()"
   ]
  },
  {
   "cell_type": "markdown",
   "metadata": {},
   "source": [
    "It returns ```None``` if no element was found:"
   ]
  },
  {
   "cell_type": "code",
   "execution_count": 29,
   "metadata": {},
   "outputs": [
    {
     "data": {
      "text/plain": [
       "True"
      ]
     },
     "execution_count": 29,
     "metadata": {},
     "output_type": "execute_result"
    }
   ],
   "source": [
    "response.xpath('//div[@id=\"not-exists\"]/text()').get() is None"
   ]
  },
  {
   "cell_type": "markdown",
   "metadata": {},
   "source": [
    "Instead of using e.g. ```'@src'``` XPath it is possible to query for attributes using ```.attrib``` property of a Selector:"
   ]
  },
  {
   "cell_type": "code",
   "execution_count": 30,
   "metadata": {},
   "outputs": [
    {
     "data": {
      "text/plain": [
       "['image1_thumb.jpg',\n",
       " 'image2_thumb.jpg',\n",
       " 'image3_thumb.jpg',\n",
       " 'image4_thumb.jpg',\n",
       " 'image5_thumb.jpg']"
      ]
     },
     "execution_count": 30,
     "metadata": {},
     "output_type": "execute_result"
    }
   ],
   "source": [
    "[img.attrib[\"src\"] for img in response.css(\"img\")]"
   ]
  },
  {
   "cell_type": "code",
   "execution_count": 31,
   "metadata": {},
   "outputs": [
    {
     "data": {
      "text/plain": [
       "'http://example.com/'"
      ]
     },
     "execution_count": 31,
     "metadata": {},
     "output_type": "execute_result"
    }
   ],
   "source": [
    "response.css(\"base\").attrib[\"href\"]"
   ]
  },
  {
   "cell_type": "code",
   "execution_count": null,
   "metadata": {},
   "outputs": [],
   "source": []
  },
  {
   "cell_type": "markdown",
   "metadata": {},
   "source": [
    "## Nesting selectors"
   ]
  },
  {
   "cell_type": "markdown",
   "metadata": {},
   "source": [
    "The selection methods (```.xpath()``` or ```.css()```) return a list of selectors of the same type, so you can call the selection methods for those selectors too. Here’s an example:"
   ]
  },
  {
   "cell_type": "code",
   "execution_count": 32,
   "metadata": {},
   "outputs": [],
   "source": [
    "links = response.xpath('//a[contains(@href, \"image\")]')\n",
    "\n",
    "links.getall()"
   ]
  },
  {
   "cell_type": "code",
   "execution_count": 36,
   "metadata": {},
   "outputs": [
    {
     "data": {
      "text/plain": [
       "<enumerate at 0x10bf4f2c0>"
      ]
     },
     "execution_count": 36,
     "metadata": {},
     "output_type": "execute_result"
    }
   ],
   "source": [
    "enumerate(links) #The enumerate() function in Python adds a counter to an iterable, allowing for easy access to both index and element pairs"
   ]
  },
  {
   "cell_type": "code",
   "execution_count": 37,
   "metadata": {},
   "outputs": [
    {
     "name": "stdout",
     "output_type": "stream",
     "text": [
      "(0, <Selector query='//a[contains(@href, \"image\")]' data='<a href=\"image1.html\">Name: My image ...'>)\n",
      "(1, <Selector query='//a[contains(@href, \"image\")]' data='<a href=\"image2.html\">Name: My image ...'>)\n",
      "(2, <Selector query='//a[contains(@href, \"image\")]' data='<a href=\"image3.html\">Name: My image ...'>)\n",
      "(3, <Selector query='//a[contains(@href, \"image\")]' data='<a href=\"image4.html\">Name: My image ...'>)\n",
      "(4, <Selector query='//a[contains(@href, \"image\")]' data='<a href=\"image5.html\">Name: My image ...'>)\n"
     ]
    }
   ],
   "source": [
    "for i in enumerate(links):\n",
    "    print(i)"
   ]
  },
  {
   "cell_type": "code",
   "execution_count": null,
   "metadata": {},
   "outputs": [],
   "source": [
    "for index, link in enumerate(links):\n",
    "    href_xpath = link.xpath(\"@href\").get()\n",
    "    img_xpath = link.xpath(\"img/@src\").get()\n",
    "    print(f\"Link number {index} points to url {href_xpath!r} and image {img_xpath!r}\")"
   ]
  },
  {
   "cell_type": "markdown",
   "metadata": {},
   "source": [
    "## Selecting element attributes¶"
   ]
  },
  {
   "cell_type": "markdown",
   "metadata": {},
   "source": [
    "### HTML attribtues\n",
    "\n",
    "HTML attributes provide additional information about HTML elements.\n",
    "\n",
    "\n",
    "*    All HTML elements can have attributes\n",
    "*    Attributes provide additional information about elements\n",
    "*    Attributes are always specified in the start tag\n",
    "*    Attributes usually come in name/value pairs like: name=\"value\"\n"
   ]
  },
  {
   "cell_type": "markdown",
   "metadata": {},
   "source": [
    "The \\<a\\> tag defines a hyperlink. The ```href``` attribute specifies the URL of the page the link goes to:"
   ]
  },
  {
   "cell_type": "code",
   "execution_count": null,
   "metadata": {},
   "outputs": [],
   "source": [
    "# <a href=\"https://www.w3schools.com\">Visit W3Schools</a> "
   ]
  },
  {
   "cell_type": "code",
   "execution_count": null,
   "metadata": {},
   "outputs": [],
   "source": []
  },
  {
   "cell_type": "markdown",
   "metadata": {},
   "source": [
    "There are several ways to get a value of an attribute. First, one can use XPath syntax:"
   ]
  },
  {
   "cell_type": "code",
   "execution_count": 43,
   "metadata": {},
   "outputs": [
    {
     "data": {
      "text/plain": [
       "['image1.html', 'image2.html', 'image3.html', 'image4.html', 'image5.html']"
      ]
     },
     "execution_count": 43,
     "metadata": {},
     "output_type": "execute_result"
    }
   ],
   "source": [
    "response.xpath(\"//a/@href\").getall()"
   ]
  },
  {
   "cell_type": "markdown",
   "metadata": {},
   "source": [
    "XPath syntax has a few advantages: it is a standard XPath feature, and ```@attributes``` can be used in other parts of an XPath expression - e.g. it is possible to filter by attribute value.\n",
    "\n",
    "Scrapy also provides an extension to CSS selectors (```::attr(...)```) which allows to get attribute values:"
   ]
  },
  {
   "cell_type": "code",
   "execution_count": 42,
   "metadata": {},
   "outputs": [
    {
     "data": {
      "text/plain": [
       "['image1.html', 'image2.html', 'image3.html', 'image4.html', 'image5.html']"
      ]
     },
     "execution_count": 42,
     "metadata": {},
     "output_type": "execute_result"
    }
   ],
   "source": [
    "response.css(\"a::attr(href)\").getall()"
   ]
  },
  {
   "cell_type": "markdown",
   "metadata": {},
   "source": [
    "In addition to that, there is a ```.attrib``` property of Selector. You can use it if you prefer to lookup attributes in Python code, without using XPaths or CSS extensions:"
   ]
  },
  {
   "cell_type": "code",
   "execution_count": 44,
   "metadata": {},
   "outputs": [
    {
     "data": {
      "text/plain": [
       "['image1.html', 'image2.html', 'image3.html', 'image4.html', 'image5.html']"
      ]
     },
     "execution_count": 44,
     "metadata": {},
     "output_type": "execute_result"
    }
   ],
   "source": [
    "[a.attrib[\"href\"] for a in response.css(\"a\")]"
   ]
  },
  {
   "cell_type": "code",
   "execution_count": null,
   "metadata": {},
   "outputs": [],
   "source": []
  },
  {
   "cell_type": "markdown",
   "metadata": {},
   "source": [
    "## Using selectors with regular expressions¶"
   ]
  },
  {
   "cell_type": "markdown",
   "metadata": {},
   "source": [
    "Selector also has a ```.re()``` method for extracting data using regular expressions. \n",
    "However, unlike using ```.xpath()``` or ```.css()``` methods, ```.re()``` returns a list of strings. So you can’t construct nested ```.re()``` calls."
   ]
  },
  {
   "cell_type": "markdown",
   "metadata": {},
   "source": [
    "Here’s an example used to extract image names from the HTML code above:"
   ]
  },
  {
   "cell_type": "code",
   "execution_count": 45,
   "metadata": {},
   "outputs": [
    {
     "data": {
      "text/plain": [
       "['My image 1 ', 'My image 2 ', 'My image 3 ', 'My image 4 ', 'My image 5 ']"
      ]
     },
     "execution_count": 45,
     "metadata": {},
     "output_type": "execute_result"
    }
   ],
   "source": [
    "response.xpath('//a[contains(@href, \"image\")]/text()').re(r\"Name:\\s*(.*)\")"
   ]
  },
  {
   "cell_type": "markdown",
   "metadata": {},
   "source": [
    "There’s an additional helper reciprocating ```.get()``` for ```.re()```, named ```.re_first()```. Use it to extract just the first matching string:"
   ]
  },
  {
   "cell_type": "code",
   "execution_count": 46,
   "metadata": {},
   "outputs": [
    {
     "data": {
      "text/plain": [
       "'My image 1 '"
      ]
     },
     "execution_count": 46,
     "metadata": {},
     "output_type": "execute_result"
    }
   ],
   "source": [
    "response.xpath('//a[contains(@href, \"image\")]/text()').re_first(r\"Name:\\s*(.*)\")"
   ]
  },
  {
   "cell_type": "code",
   "execution_count": null,
   "metadata": {},
   "outputs": [],
   "source": []
  },
  {
   "cell_type": "code",
   "execution_count": null,
   "metadata": {},
   "outputs": [],
   "source": []
  },
  {
   "cell_type": "code",
   "execution_count": null,
   "metadata": {},
   "outputs": [],
   "source": []
  },
  {
   "cell_type": "code",
   "execution_count": null,
   "metadata": {},
   "outputs": [],
   "source": []
  },
  {
   "cell_type": "markdown",
   "metadata": {},
   "source": [
    "# Example Usage with Scrapy Spider"
   ]
  },
  {
   "cell_type": "code",
   "execution_count": 20,
   "metadata": {},
   "outputs": [
    {
     "name": "stderr",
     "output_type": "stream",
     "text": [
      "2025-01-09 11:37:17 [scrapy.utils.log] INFO: Scrapy 2.12.0 started (bot: scrapybot)\n",
      "2025-01-09 11:37:17 [scrapy.utils.log] INFO: Versions: lxml 5.2.2.0, libxml2 2.12.6, cssselect 1.2.0, parsel 1.9.1, w3lib 2.2.1, Twisted 24.11.0, Python 3.10.4 (main, May 25 2024, 00:47:07) [Clang 15.0.0 (clang-1500.3.9.4)], pyOpenSSL 24.3.0 (OpenSSL 3.4.0 22 Oct 2024), cryptography 44.0.0, Platform macOS-15.2-arm64-arm-64bit\n",
      "2025-01-09 11:37:17 [scrapy.addons] INFO: Enabled addons:\n",
      "[]\n",
      "2025-01-09 11:37:18 [scrapy.utils.log] DEBUG: Using reactor: twisted.internet.selectreactor.SelectReactor\n",
      "2025-01-09 11:37:18 [scrapy.extensions.telnet] INFO: Telnet Password: 19ad0991e12c283f\n",
      "2025-01-09 11:37:18 [scrapy.middleware] INFO: Enabled extensions:\n",
      "['scrapy.extensions.corestats.CoreStats',\n",
      " 'scrapy.extensions.telnet.TelnetConsole',\n",
      " 'scrapy.extensions.memusage.MemoryUsage',\n",
      " 'scrapy.extensions.feedexport.FeedExporter',\n",
      " 'scrapy.extensions.logstats.LogStats']\n",
      "2025-01-09 11:37:18 [scrapy.crawler] INFO: Overridden settings:\n",
      "{}\n",
      "2025-01-09 11:37:18 [scrapy.middleware] INFO: Enabled downloader middlewares:\n",
      "['scrapy.downloadermiddlewares.offsite.OffsiteMiddleware',\n",
      " 'scrapy.downloadermiddlewares.httpauth.HttpAuthMiddleware',\n",
      " 'scrapy.downloadermiddlewares.downloadtimeout.DownloadTimeoutMiddleware',\n",
      " 'scrapy.downloadermiddlewares.defaultheaders.DefaultHeadersMiddleware',\n",
      " 'scrapy.downloadermiddlewares.useragent.UserAgentMiddleware',\n",
      " 'scrapy.downloadermiddlewares.retry.RetryMiddleware',\n",
      " 'scrapy.downloadermiddlewares.redirect.MetaRefreshMiddleware',\n",
      " 'scrapy.downloadermiddlewares.httpcompression.HttpCompressionMiddleware',\n",
      " 'scrapy.downloadermiddlewares.redirect.RedirectMiddleware',\n",
      " 'scrapy.downloadermiddlewares.cookies.CookiesMiddleware',\n",
      " 'scrapy.downloadermiddlewares.httpproxy.HttpProxyMiddleware',\n",
      " 'scrapy.downloadermiddlewares.stats.DownloaderStats']\n",
      "2025-01-09 11:37:18 [scrapy.middleware] INFO: Enabled spider middlewares:\n",
      "['scrapy.spidermiddlewares.httperror.HttpErrorMiddleware',\n",
      " 'scrapy.spidermiddlewares.referer.RefererMiddleware',\n",
      " 'scrapy.spidermiddlewares.urllength.UrlLengthMiddleware',\n",
      " 'scrapy.spidermiddlewares.depth.DepthMiddleware']\n",
      "2025-01-09 11:37:18 [scrapy.middleware] INFO: Enabled item pipelines:\n",
      "[]\n",
      "2025-01-09 11:37:18 [scrapy.core.engine] INFO: Spider opened\n",
      "2025-01-09 11:37:18 [scrapy.extensions.logstats] INFO: Crawled 0 pages (at 0 pages/min), scraped 0 items (at 0 items/min)\n",
      "2025-01-09 11:37:18 [scrapy.extensions.telnet] INFO: Telnet console listening on 127.0.0.1:6023\n",
      "2025-01-09 11:37:19 [scrapy.core.engine] DEBUG: Crawled (200) <GET https://quotes.toscrape.com/page/1/> (referer: None)\n",
      "2025-01-09 11:37:19 [scrapy.core.scraper] DEBUG: Scraped from <200 https://quotes.toscrape.com/page/1/>\n",
      "{'text': '“The world as we have created it is a process of our thinking. It cannot be changed without changing our thinking.”', 'author': 'Albert Einstein', 'tags': ['change', 'deep-thoughts', 'thinking', 'world']}\n",
      "2025-01-09 11:37:19 [scrapy.core.scraper] DEBUG: Scraped from <200 https://quotes.toscrape.com/page/1/>\n",
      "{'text': '“It is our choices, Harry, that show what we truly are, far more than our abilities.”', 'author': 'J.K. Rowling', 'tags': ['abilities', 'choices']}\n",
      "2025-01-09 11:37:19 [scrapy.core.scraper] DEBUG: Scraped from <200 https://quotes.toscrape.com/page/1/>\n",
      "{'text': '“There are only two ways to live your life. One is as though nothing is a miracle. The other is as though everything is a miracle.”', 'author': 'Albert Einstein', 'tags': ['inspirational', 'life', 'live', 'miracle', 'miracles']}\n",
      "2025-01-09 11:37:19 [scrapy.core.scraper] DEBUG: Scraped from <200 https://quotes.toscrape.com/page/1/>\n",
      "{'text': '“The person, be it gentleman or lady, who has not pleasure in a good novel, must be intolerably stupid.”', 'author': 'Jane Austen', 'tags': ['aliteracy', 'books', 'classic', 'humor']}\n",
      "2025-01-09 11:37:19 [scrapy.core.scraper] DEBUG: Scraped from <200 https://quotes.toscrape.com/page/1/>\n",
      "{'text': \"“Imperfection is beauty, madness is genius and it's better to be absolutely ridiculous than absolutely boring.”\", 'author': 'Marilyn Monroe', 'tags': ['be-yourself', 'inspirational']}\n",
      "2025-01-09 11:37:19 [scrapy.core.scraper] DEBUG: Scraped from <200 https://quotes.toscrape.com/page/1/>\n",
      "{'text': '“Try not to become a man of success. Rather become a man of value.”', 'author': 'Albert Einstein', 'tags': ['adulthood', 'success', 'value']}\n",
      "2025-01-09 11:37:19 [scrapy.core.scraper] DEBUG: Scraped from <200 https://quotes.toscrape.com/page/1/>\n",
      "{'text': '“It is better to be hated for what you are than to be loved for what you are not.”', 'author': 'André Gide', 'tags': ['life', 'love']}\n",
      "2025-01-09 11:37:19 [scrapy.core.scraper] DEBUG: Scraped from <200 https://quotes.toscrape.com/page/1/>\n",
      "{'text': \"“I have not failed. I've just found 10,000 ways that won't work.”\", 'author': 'Thomas A. Edison', 'tags': ['edison', 'failure', 'inspirational', 'paraphrased']}\n",
      "2025-01-09 11:37:19 [scrapy.core.scraper] DEBUG: Scraped from <200 https://quotes.toscrape.com/page/1/>\n",
      "{'text': \"“A woman is like a tea bag; you never know how strong it is until it's in hot water.”\", 'author': 'Eleanor Roosevelt', 'tags': ['misattributed-eleanor-roosevelt']}\n",
      "2025-01-09 11:37:19 [scrapy.core.scraper] DEBUG: Scraped from <200 https://quotes.toscrape.com/page/1/>\n",
      "{'text': '“A day without sunshine is like, you know, night.”', 'author': 'Steve Martin', 'tags': ['humor', 'obvious', 'simile']}\n",
      "2025-01-09 11:37:19 [scrapy.core.engine] DEBUG: Crawled (200) <GET https://quotes.toscrape.com/page/2/> (referer: https://quotes.toscrape.com/page/1/)\n",
      "2025-01-09 11:37:19 [scrapy.core.scraper] DEBUG: Scraped from <200 https://quotes.toscrape.com/page/2/>\n",
      "{'text': \"“This life is what you make it. No matter what, you're going to mess up sometimes, it's a universal truth. But the good part is you get to decide how you're going to mess it up. Girls will be your friends - they'll act like it anyway. But just remember, some come, some go. The ones that stay with you through everything - they're your true best friends. Don't let go of them. Also remember, sisters make the best friends in the world. As for lovers, well, they'll come and go too. And baby, I hate to say it, most of them - actually pretty much all of them are going to break your heart, but you can't give up because if you give up, you'll never find your soulmate. You'll never find that half who makes you whole and that goes for everything. Just because you fail once, doesn't mean you're gonna fail at everything. Keep trying, hold on, and always, always, always believe in yourself, because if you don't, then who will, sweetie? So keep your head high, keep your chin up, and most importantly, keep smiling, because life's a beautiful thing and there's so much to smile about.”\", 'author': 'Marilyn Monroe', 'tags': ['friends', 'heartbreak', 'inspirational', 'life', 'love', 'sisters']}\n",
      "2025-01-09 11:37:19 [scrapy.core.scraper] DEBUG: Scraped from <200 https://quotes.toscrape.com/page/2/>\n",
      "{'text': '“It takes a great deal of bravery to stand up to our enemies, but just as much to stand up to our friends.”', 'author': 'J.K. Rowling', 'tags': ['courage', 'friends']}\n",
      "2025-01-09 11:37:19 [scrapy.core.scraper] DEBUG: Scraped from <200 https://quotes.toscrape.com/page/2/>\n",
      "{'text': \"“If you can't explain it to a six year old, you don't understand it yourself.”\", 'author': 'Albert Einstein', 'tags': ['simplicity', 'understand']}\n",
      "2025-01-09 11:37:19 [scrapy.core.scraper] DEBUG: Scraped from <200 https://quotes.toscrape.com/page/2/>\n",
      "{'text': \"“You may not be her first, her last, or her only. She loved before she may love again. But if she loves you now, what else matters? She's not perfect—you aren't either, and the two of you may never be perfect together but if she can make you laugh, cause you to think twice, and admit to being human and making mistakes, hold onto her and give her the most you can. She may not be thinking about you every second of the day, but she will give you a part of her that she knows you can break—her heart. So don't hurt her, don't change her, don't analyze and don't expect more than she can give. Smile when she makes you happy, let her know when she makes you mad, and miss her when she's not there.”\", 'author': 'Bob Marley', 'tags': ['love']}\n",
      "2025-01-09 11:37:19 [scrapy.core.scraper] DEBUG: Scraped from <200 https://quotes.toscrape.com/page/2/>\n",
      "{'text': '“I like nonsense, it wakes up the brain cells. Fantasy is a necessary ingredient in living.”', 'author': 'Dr. Seuss', 'tags': ['fantasy']}\n",
      "2025-01-09 11:37:19 [scrapy.core.scraper] DEBUG: Scraped from <200 https://quotes.toscrape.com/page/2/>\n",
      "{'text': '“I may not have gone where I intended to go, but I think I have ended up where I needed to be.”', 'author': 'Douglas Adams', 'tags': ['life', 'navigation']}\n",
      "2025-01-09 11:37:19 [scrapy.core.scraper] DEBUG: Scraped from <200 https://quotes.toscrape.com/page/2/>\n",
      "{'text': \"“The opposite of love is not hate, it's indifference. The opposite of art is not ugliness, it's indifference. The opposite of faith is not heresy, it's indifference. And the opposite of life is not death, it's indifference.”\", 'author': 'Elie Wiesel', 'tags': ['activism', 'apathy', 'hate', 'indifference', 'inspirational', 'love', 'opposite', 'philosophy']}\n",
      "2025-01-09 11:37:19 [scrapy.core.scraper] DEBUG: Scraped from <200 https://quotes.toscrape.com/page/2/>\n",
      "{'text': '“It is not a lack of love, but a lack of friendship that makes unhappy marriages.”', 'author': 'Friedrich Nietzsche', 'tags': ['friendship', 'lack-of-friendship', 'lack-of-love', 'love', 'marriage', 'unhappy-marriage']}\n",
      "2025-01-09 11:37:19 [scrapy.core.scraper] DEBUG: Scraped from <200 https://quotes.toscrape.com/page/2/>\n",
      "{'text': '“Good friends, good books, and a sleepy conscience: this is the ideal life.”', 'author': 'Mark Twain', 'tags': ['books', 'contentment', 'friends', 'friendship', 'life']}\n",
      "2025-01-09 11:37:19 [scrapy.core.scraper] DEBUG: Scraped from <200 https://quotes.toscrape.com/page/2/>\n",
      "{'text': '“Life is what happens to us while we are making other plans.”', 'author': 'Allen Saunders', 'tags': ['fate', 'life', 'misattributed-john-lennon', 'planning', 'plans']}\n",
      "2025-01-09 11:37:20 [scrapy.core.engine] DEBUG: Crawled (200) <GET https://quotes.toscrape.com/page/3/> (referer: https://quotes.toscrape.com/page/2/)\n",
      "2025-01-09 11:37:20 [scrapy.core.scraper] DEBUG: Scraped from <200 https://quotes.toscrape.com/page/3/>\n",
      "{'text': '“I love you without knowing how, or when, or from where. I love you simply, without problems or pride: I love you in this way because I do not know any other way of loving but this, in which there is no I or you, so intimate that your hand upon my chest is my hand, so intimate that when I fall asleep your eyes close.”', 'author': 'Pablo Neruda', 'tags': ['love', 'poetry']}\n",
      "2025-01-09 11:37:20 [scrapy.core.scraper] DEBUG: Scraped from <200 https://quotes.toscrape.com/page/3/>\n",
      "{'text': '“For every minute you are angry you lose sixty seconds of happiness.”', 'author': 'Ralph Waldo Emerson', 'tags': ['happiness']}\n",
      "2025-01-09 11:37:20 [scrapy.core.scraper] DEBUG: Scraped from <200 https://quotes.toscrape.com/page/3/>\n",
      "{'text': '“If you judge people, you have no time to love them.”', 'author': 'Mother Teresa', 'tags': ['attributed-no-source']}\n",
      "2025-01-09 11:37:20 [scrapy.core.scraper] DEBUG: Scraped from <200 https://quotes.toscrape.com/page/3/>\n",
      "{'text': '“Anyone who thinks sitting in church can make you a Christian must also think that sitting in a garage can make you a car.”', 'author': 'Garrison Keillor', 'tags': ['humor', 'religion']}\n",
      "2025-01-09 11:37:20 [scrapy.core.scraper] DEBUG: Scraped from <200 https://quotes.toscrape.com/page/3/>\n",
      "{'text': '“Beauty is in the eye of the beholder and it may be necessary from time to time to give a stupid or misinformed beholder a black eye.”', 'author': 'Jim Henson', 'tags': ['humor']}\n",
      "2025-01-09 11:37:20 [scrapy.core.scraper] DEBUG: Scraped from <200 https://quotes.toscrape.com/page/3/>\n",
      "{'text': '“Today you are You, that is truer than true. There is no one alive who is Youer than You.”', 'author': 'Dr. Seuss', 'tags': ['comedy', 'life', 'yourself']}\n",
      "2025-01-09 11:37:20 [scrapy.core.scraper] DEBUG: Scraped from <200 https://quotes.toscrape.com/page/3/>\n",
      "{'text': '“If you want your children to be intelligent, read them fairy tales. If you want them to be more intelligent, read them more fairy tales.”', 'author': 'Albert Einstein', 'tags': ['children', 'fairy-tales']}\n",
      "2025-01-09 11:37:20 [scrapy.core.scraper] DEBUG: Scraped from <200 https://quotes.toscrape.com/page/3/>\n",
      "{'text': '“It is impossible to live without failing at something, unless you live so cautiously that you might as well not have lived at all - in which case, you fail by default.”', 'author': 'J.K. Rowling', 'tags': []}\n",
      "2025-01-09 11:37:20 [scrapy.core.scraper] DEBUG: Scraped from <200 https://quotes.toscrape.com/page/3/>\n",
      "{'text': '“Logic will get you from A to Z; imagination will get you everywhere.”', 'author': 'Albert Einstein', 'tags': ['imagination']}\n",
      "2025-01-09 11:37:20 [scrapy.core.scraper] DEBUG: Scraped from <200 https://quotes.toscrape.com/page/3/>\n",
      "{'text': '“One good thing about music, when it hits you, you feel no pain.”', 'author': 'Bob Marley', 'tags': ['music']}\n",
      "2025-01-09 11:37:20 [scrapy.core.engine] DEBUG: Crawled (200) <GET https://quotes.toscrape.com/page/4/> (referer: https://quotes.toscrape.com/page/3/)\n",
      "2025-01-09 11:37:20 [scrapy.core.scraper] DEBUG: Scraped from <200 https://quotes.toscrape.com/page/4/>\n",
      "{'text': \"“The more that you read, the more things you will know. The more that you learn, the more places you'll go.”\", 'author': 'Dr. Seuss', 'tags': ['learning', 'reading', 'seuss']}\n",
      "2025-01-09 11:37:20 [scrapy.core.scraper] DEBUG: Scraped from <200 https://quotes.toscrape.com/page/4/>\n",
      "{'text': '“Of course it is happening inside your head, Harry, but why on earth should that mean that it is not real?”', 'author': 'J.K. Rowling', 'tags': ['dumbledore']}\n",
      "2025-01-09 11:37:20 [scrapy.core.scraper] DEBUG: Scraped from <200 https://quotes.toscrape.com/page/4/>\n",
      "{'text': '“The truth is, everyone is going to hurt you. You just got to find the ones worth suffering for.”', 'author': 'Bob Marley', 'tags': ['friendship']}\n",
      "2025-01-09 11:37:20 [scrapy.core.scraper] DEBUG: Scraped from <200 https://quotes.toscrape.com/page/4/>\n",
      "{'text': '“Not all of us can do great things. But we can do small things with great love.”', 'author': 'Mother Teresa', 'tags': ['misattributed-to-mother-teresa', 'paraphrased']}\n",
      "2025-01-09 11:37:20 [scrapy.core.scraper] DEBUG: Scraped from <200 https://quotes.toscrape.com/page/4/>\n",
      "{'text': '“To the well-organized mind, death is but the next great adventure.”', 'author': 'J.K. Rowling', 'tags': ['death', 'inspirational']}\n",
      "2025-01-09 11:37:20 [scrapy.core.scraper] DEBUG: Scraped from <200 https://quotes.toscrape.com/page/4/>\n",
      "{'text': \"“All you need is love. But a little chocolate now and then doesn't hurt.”\", 'author': 'Charles M. Schulz', 'tags': ['chocolate', 'food', 'humor']}\n",
      "2025-01-09 11:37:20 [scrapy.core.scraper] DEBUG: Scraped from <200 https://quotes.toscrape.com/page/4/>\n",
      "{'text': \"“We read to know we're not alone.”\", 'author': 'William Nicholson', 'tags': ['misattributed-to-c-s-lewis', 'reading']}\n",
      "2025-01-09 11:37:20 [scrapy.core.scraper] DEBUG: Scraped from <200 https://quotes.toscrape.com/page/4/>\n",
      "{'text': '“Any fool can know. The point is to understand.”', 'author': 'Albert Einstein', 'tags': ['knowledge', 'learning', 'understanding', 'wisdom']}\n",
      "2025-01-09 11:37:20 [scrapy.core.scraper] DEBUG: Scraped from <200 https://quotes.toscrape.com/page/4/>\n",
      "{'text': '“I have always imagined that Paradise will be a kind of library.”', 'author': 'Jorge Luis Borges', 'tags': ['books', 'library']}\n",
      "2025-01-09 11:37:20 [scrapy.core.scraper] DEBUG: Scraped from <200 https://quotes.toscrape.com/page/4/>\n",
      "{'text': '“It is never too late to be what you might have been.”', 'author': 'George Eliot', 'tags': ['inspirational']}\n",
      "2025-01-09 11:37:22 [scrapy.core.engine] DEBUG: Crawled (200) <GET https://quotes.toscrape.com/page/5/> (referer: https://quotes.toscrape.com/page/4/)\n",
      "2025-01-09 11:37:22 [scrapy.core.scraper] DEBUG: Scraped from <200 https://quotes.toscrape.com/page/5/>\n",
      "{'text': '“A reader lives a thousand lives before he dies, said Jojen. The man who never reads lives only one.”', 'author': 'George R.R. Martin', 'tags': ['read', 'readers', 'reading', 'reading-books']}\n",
      "2025-01-09 11:37:22 [scrapy.core.scraper] DEBUG: Scraped from <200 https://quotes.toscrape.com/page/5/>\n",
      "{'text': '“You can never get a cup of tea large enough or a book long enough to suit me.”', 'author': 'C.S. Lewis', 'tags': ['books', 'inspirational', 'reading', 'tea']}\n",
      "2025-01-09 11:37:22 [scrapy.core.scraper] DEBUG: Scraped from <200 https://quotes.toscrape.com/page/5/>\n",
      "{'text': '“You believe lies so you eventually learn to trust no one but yourself.”', 'author': 'Marilyn Monroe', 'tags': []}\n",
      "2025-01-09 11:37:22 [scrapy.core.scraper] DEBUG: Scraped from <200 https://quotes.toscrape.com/page/5/>\n",
      "{'text': '“If you can make a woman laugh, you can make her do anything.”', 'author': 'Marilyn Monroe', 'tags': ['girls', 'love']}\n",
      "2025-01-09 11:37:22 [scrapy.core.scraper] DEBUG: Scraped from <200 https://quotes.toscrape.com/page/5/>\n",
      "{'text': '“Life is like riding a bicycle. To keep your balance, you must keep moving.”', 'author': 'Albert Einstein', 'tags': ['life', 'simile']}\n",
      "2025-01-09 11:37:22 [scrapy.core.scraper] DEBUG: Scraped from <200 https://quotes.toscrape.com/page/5/>\n",
      "{'text': '“The real lover is the man who can thrill you by kissing your forehead or smiling into your eyes or just staring into space.”', 'author': 'Marilyn Monroe', 'tags': ['love']}\n",
      "2025-01-09 11:37:22 [scrapy.core.scraper] DEBUG: Scraped from <200 https://quotes.toscrape.com/page/5/>\n",
      "{'text': \"“A wise girl kisses but doesn't love, listens but doesn't believe, and leaves before she is left.”\", 'author': 'Marilyn Monroe', 'tags': ['attributed-no-source']}\n",
      "2025-01-09 11:37:22 [scrapy.core.scraper] DEBUG: Scraped from <200 https://quotes.toscrape.com/page/5/>\n",
      "{'text': '“Only in the darkness can you see the stars.”', 'author': 'Martin Luther King Jr.', 'tags': ['hope', 'inspirational']}\n",
      "2025-01-09 11:37:22 [scrapy.core.scraper] DEBUG: Scraped from <200 https://quotes.toscrape.com/page/5/>\n",
      "{'text': '“It matters not what someone is born, but what they grow to be.”', 'author': 'J.K. Rowling', 'tags': ['dumbledore']}\n",
      "2025-01-09 11:37:22 [scrapy.core.scraper] DEBUG: Scraped from <200 https://quotes.toscrape.com/page/5/>\n",
      "{'text': '“Love does not begin and end the way we seem to think it does. Love is a battle, love is a war; love is a growing up.”', 'author': 'James Baldwin', 'tags': ['love']}\n",
      "2025-01-09 11:37:23 [scrapy.core.engine] DEBUG: Crawled (200) <GET https://quotes.toscrape.com/page/6/> (referer: https://quotes.toscrape.com/page/5/)\n",
      "2025-01-09 11:37:23 [scrapy.core.scraper] DEBUG: Scraped from <200 https://quotes.toscrape.com/page/6/>\n",
      "{'text': '“There is nothing I would not do for those who are really my friends. I have no notion of loving people by halves, it is not my nature.”', 'author': 'Jane Austen', 'tags': ['friendship', 'love']}\n",
      "2025-01-09 11:37:23 [scrapy.core.scraper] DEBUG: Scraped from <200 https://quotes.toscrape.com/page/6/>\n",
      "{'text': '“Do one thing every day that scares you.”', 'author': 'Eleanor Roosevelt', 'tags': ['attributed', 'fear', 'inspiration']}\n",
      "2025-01-09 11:37:23 [scrapy.core.scraper] DEBUG: Scraped from <200 https://quotes.toscrape.com/page/6/>\n",
      "{'text': '“I am good, but not an angel. I do sin, but I am not the devil. I am just a small girl in a big world trying to find someone to love.”', 'author': 'Marilyn Monroe', 'tags': ['attributed-no-source']}\n",
      "2025-01-09 11:37:23 [scrapy.core.scraper] DEBUG: Scraped from <200 https://quotes.toscrape.com/page/6/>\n",
      "{'text': '“If I were not a physicist, I would probably be a musician. I often think in music. I live my daydreams in music. I see my life in terms of music.”', 'author': 'Albert Einstein', 'tags': ['music']}\n",
      "2025-01-09 11:37:23 [scrapy.core.scraper] DEBUG: Scraped from <200 https://quotes.toscrape.com/page/6/>\n",
      "{'text': '“If you only read the books that everyone else is reading, you can only think what everyone else is thinking.”', 'author': 'Haruki Murakami', 'tags': ['books', 'thought']}\n",
      "2025-01-09 11:37:23 [scrapy.core.scraper] DEBUG: Scraped from <200 https://quotes.toscrape.com/page/6/>\n",
      "{'text': '“The difference between genius and stupidity is: genius has its limits.”', 'author': 'Alexandre Dumas fils', 'tags': ['misattributed-to-einstein']}\n",
      "2025-01-09 11:37:23 [scrapy.core.scraper] DEBUG: Scraped from <200 https://quotes.toscrape.com/page/6/>\n",
      "{'text': \"“He's like a drug for you, Bella.”\", 'author': 'Stephenie Meyer', 'tags': ['drug', 'romance', 'simile']}\n",
      "2025-01-09 11:37:23 [scrapy.core.scraper] DEBUG: Scraped from <200 https://quotes.toscrape.com/page/6/>\n",
      "{'text': '“There is no friend as loyal as a book.”', 'author': 'Ernest Hemingway', 'tags': ['books', 'friends', 'novelist-quotes']}\n",
      "2025-01-09 11:37:23 [scrapy.core.scraper] DEBUG: Scraped from <200 https://quotes.toscrape.com/page/6/>\n",
      "{'text': '“When one door of happiness closes, another opens; but often we look so long at the closed door that we do not see the one which has been opened for us.”', 'author': 'Helen Keller', 'tags': ['inspirational']}\n",
      "2025-01-09 11:37:23 [scrapy.core.scraper] DEBUG: Scraped from <200 https://quotes.toscrape.com/page/6/>\n",
      "{'text': \"“Life isn't about finding yourself. Life is about creating yourself.”\", 'author': 'George Bernard Shaw', 'tags': ['inspirational', 'life', 'yourself']}\n",
      "2025-01-09 11:37:23 [scrapy.core.engine] DEBUG: Crawled (200) <GET https://quotes.toscrape.com/page/7/> (referer: https://quotes.toscrape.com/page/6/)\n",
      "2025-01-09 11:37:23 [scrapy.core.scraper] DEBUG: Scraped from <200 https://quotes.toscrape.com/page/7/>\n",
      "{'text': \"“That's the problem with drinking, I thought, as I poured myself a drink. If something bad happens you drink in an attempt to forget; if something good happens you drink in order to celebrate; and if nothing happens you drink to make something happen.”\", 'author': 'Charles Bukowski', 'tags': ['alcohol']}\n",
      "2025-01-09 11:37:23 [scrapy.core.scraper] DEBUG: Scraped from <200 https://quotes.toscrape.com/page/7/>\n",
      "{'text': '“You don’t forget the face of the person who was your last hope.”', 'author': 'Suzanne Collins', 'tags': ['the-hunger-games']}\n",
      "2025-01-09 11:37:23 [scrapy.core.scraper] DEBUG: Scraped from <200 https://quotes.toscrape.com/page/7/>\n",
      "{'text': \"“Remember, we're madly in love, so it's all right to kiss me anytime you feel like it.”\", 'author': 'Suzanne Collins', 'tags': ['humor']}\n",
      "2025-01-09 11:37:23 [scrapy.core.scraper] DEBUG: Scraped from <200 https://quotes.toscrape.com/page/7/>\n",
      "{'text': '“To love at all is to be vulnerable. Love anything and your heart will be wrung and possibly broken. If you want to make sure of keeping it intact you must give it to no one, not even an animal. Wrap it carefully round with hobbies and little luxuries; avoid all entanglements. Lock it up safe in the casket or coffin of your selfishness. But in that casket, safe, dark, motionless, airless, it will change. It will not be broken; it will become unbreakable, impenetrable, irredeemable. To love is to be vulnerable.”', 'author': 'C.S. Lewis', 'tags': ['love']}\n",
      "2025-01-09 11:37:23 [scrapy.core.scraper] DEBUG: Scraped from <200 https://quotes.toscrape.com/page/7/>\n",
      "{'text': '“Not all those who wander are lost.”', 'author': 'J.R.R. Tolkien', 'tags': ['bilbo', 'journey', 'lost', 'quest', 'travel', 'wander']}\n",
      "2025-01-09 11:37:23 [scrapy.core.scraper] DEBUG: Scraped from <200 https://quotes.toscrape.com/page/7/>\n",
      "{'text': '“Do not pity the dead, Harry. Pity the living, and, above all those who live without love.”', 'author': 'J.K. Rowling', 'tags': ['live-death-love']}\n",
      "2025-01-09 11:37:23 [scrapy.core.scraper] DEBUG: Scraped from <200 https://quotes.toscrape.com/page/7/>\n",
      "{'text': '“There is nothing to writing. All you do is sit down at a typewriter and bleed.”', 'author': 'Ernest Hemingway', 'tags': ['good', 'writing']}\n",
      "2025-01-09 11:37:23 [scrapy.core.scraper] DEBUG: Scraped from <200 https://quotes.toscrape.com/page/7/>\n",
      "{'text': '“Finish each day and be done with it. You have done what you could. Some blunders and absurdities no doubt crept in; forget them as soon as you can. Tomorrow is a new day. You shall begin it serenely and with too high a spirit to be encumbered with your old nonsense.”', 'author': 'Ralph Waldo Emerson', 'tags': ['life', 'regrets']}\n",
      "2025-01-09 11:37:23 [scrapy.core.scraper] DEBUG: Scraped from <200 https://quotes.toscrape.com/page/7/>\n",
      "{'text': '“I have never let my schooling interfere with my education.”', 'author': 'Mark Twain', 'tags': ['education']}\n",
      "2025-01-09 11:37:23 [scrapy.core.scraper] DEBUG: Scraped from <200 https://quotes.toscrape.com/page/7/>\n",
      "{'text': \"“I have heard there are troubles of more than one kind. Some come from ahead and some come from behind. But I've bought a big bat. I'm all ready you see. Now my troubles are going to have troubles with me!”\", 'author': 'Dr. Seuss', 'tags': ['troubles']}\n",
      "2025-01-09 11:37:24 [scrapy.core.engine] DEBUG: Crawled (200) <GET https://quotes.toscrape.com/page/8/> (referer: https://quotes.toscrape.com/page/7/)\n",
      "2025-01-09 11:37:24 [scrapy.core.scraper] DEBUG: Scraped from <200 https://quotes.toscrape.com/page/8/>\n",
      "{'text': '“If I had a flower for every time I thought of you...I could walk through my garden forever.”', 'author': 'Alfred Tennyson', 'tags': ['friendship', 'love']}\n",
      "2025-01-09 11:37:24 [scrapy.core.scraper] DEBUG: Scraped from <200 https://quotes.toscrape.com/page/8/>\n",
      "{'text': '“Some people never go crazy. What truly horrible lives they must lead.”', 'author': 'Charles Bukowski', 'tags': ['humor']}\n",
      "2025-01-09 11:37:24 [scrapy.core.scraper] DEBUG: Scraped from <200 https://quotes.toscrape.com/page/8/>\n",
      "{'text': '“The trouble with having an open mind, of course, is that people will insist on coming along and trying to put things in it.”', 'author': 'Terry Pratchett', 'tags': ['humor', 'open-mind', 'thinking']}\n",
      "2025-01-09 11:37:24 [scrapy.core.scraper] DEBUG: Scraped from <200 https://quotes.toscrape.com/page/8/>\n",
      "{'text': '“Think left and think right and think low and think high. Oh, the thinks you can think up if only you try!”', 'author': 'Dr. Seuss', 'tags': ['humor', 'philosophy']}\n",
      "2025-01-09 11:37:24 [scrapy.core.scraper] DEBUG: Scraped from <200 https://quotes.toscrape.com/page/8/>\n",
      "{'text': \"“What really knocks me out is a book that, when you're all done reading it, you wish the author that wrote it was a terrific friend of yours and you could call him up on the phone whenever you felt like it. That doesn't happen much, though.”\", 'author': 'J.D. Salinger', 'tags': ['authors', 'books', 'literature', 'reading', 'writing']}\n",
      "2025-01-09 11:37:24 [scrapy.core.scraper] DEBUG: Scraped from <200 https://quotes.toscrape.com/page/8/>\n",
      "{'text': '“The reason I talk to myself is because I’m the only one whose answers I accept.”', 'author': 'George Carlin', 'tags': ['humor', 'insanity', 'lies', 'lying', 'self-indulgence', 'truth']}\n",
      "2025-01-09 11:37:24 [scrapy.core.scraper] DEBUG: Scraped from <200 https://quotes.toscrape.com/page/8/>\n",
      "{'text': \"“You may say I'm a dreamer, but I'm not the only one. I hope someday you'll join us. And the world will live as one.”\", 'author': 'John Lennon', 'tags': ['beatles', 'connection', 'dreamers', 'dreaming', 'dreams', 'hope', 'inspirational', 'peace']}\n",
      "2025-01-09 11:37:24 [scrapy.core.scraper] DEBUG: Scraped from <200 https://quotes.toscrape.com/page/8/>\n",
      "{'text': '“I am free of all prejudice. I hate everyone equally. ”', 'author': 'W.C. Fields', 'tags': ['humor', 'sinister']}\n",
      "2025-01-09 11:37:24 [scrapy.core.scraper] DEBUG: Scraped from <200 https://quotes.toscrape.com/page/8/>\n",
      "{'text': \"“The question isn't who is going to let me; it's who is going to stop me.”\", 'author': 'Ayn Rand', 'tags': []}\n",
      "2025-01-09 11:37:24 [scrapy.core.scraper] DEBUG: Scraped from <200 https://quotes.toscrape.com/page/8/>\n",
      "{'text': \"“′Classic′ - a book which people praise and don't read.”\", 'author': 'Mark Twain', 'tags': ['books', 'classic', 'reading']}\n",
      "2025-01-09 11:37:24 [scrapy.core.engine] DEBUG: Crawled (200) <GET https://quotes.toscrape.com/page/9/> (referer: https://quotes.toscrape.com/page/8/)\n",
      "2025-01-09 11:37:24 [scrapy.core.scraper] DEBUG: Scraped from <200 https://quotes.toscrape.com/page/9/>\n",
      "{'text': '“Anyone who has never made a mistake has never tried anything new.”', 'author': 'Albert Einstein', 'tags': ['mistakes']}\n",
      "2025-01-09 11:37:24 [scrapy.core.scraper] DEBUG: Scraped from <200 https://quotes.toscrape.com/page/9/>\n",
      "{'text': \"“A lady's imagination is very rapid; it jumps from admiration to love, from love to matrimony in a moment.”\", 'author': 'Jane Austen', 'tags': ['humor', 'love', 'romantic', 'women']}\n",
      "2025-01-09 11:37:24 [scrapy.core.scraper] DEBUG: Scraped from <200 https://quotes.toscrape.com/page/9/>\n",
      "{'text': '“Remember, if the time should come when you have to make a choice between what is right and what is easy, remember what happened to a boy who was good, and kind, and brave, because he strayed across the path of Lord Voldemort. Remember Cedric Diggory.”', 'author': 'J.K. Rowling', 'tags': ['integrity']}\n",
      "2025-01-09 11:37:24 [scrapy.core.scraper] DEBUG: Scraped from <200 https://quotes.toscrape.com/page/9/>\n",
      "{'text': '“I declare after all there is no enjoyment like reading! How much sooner one tires of any thing than of a book! -- When I have a house of my own, I shall be miserable if I have not an excellent library.”', 'author': 'Jane Austen', 'tags': ['books', 'library', 'reading']}\n",
      "2025-01-09 11:37:24 [scrapy.core.scraper] DEBUG: Scraped from <200 https://quotes.toscrape.com/page/9/>\n",
      "{'text': '“There are few people whom I really love, and still fewer of whom I think well. The more I see of the world, the more am I dissatisfied with it; and every day confirms my belief of the inconsistency of all human characters, and of the little dependence that can be placed on the appearance of merit or sense.”', 'author': 'Jane Austen', 'tags': ['elizabeth-bennet', 'jane-austen']}\n",
      "2025-01-09 11:37:24 [scrapy.core.scraper] DEBUG: Scraped from <200 https://quotes.toscrape.com/page/9/>\n",
      "{'text': '“Some day you will be old enough to start reading fairy tales again.”', 'author': 'C.S. Lewis', 'tags': ['age', 'fairytales', 'growing-up']}\n",
      "2025-01-09 11:37:24 [scrapy.core.scraper] DEBUG: Scraped from <200 https://quotes.toscrape.com/page/9/>\n",
      "{'text': '“We are not necessarily doubting that God will do the best for us; we are wondering how painful the best will turn out to be.”', 'author': 'C.S. Lewis', 'tags': ['god']}\n",
      "2025-01-09 11:37:24 [scrapy.core.scraper] DEBUG: Scraped from <200 https://quotes.toscrape.com/page/9/>\n",
      "{'text': '“The fear of death follows from the fear of life. A man who lives fully is prepared to die at any time.”', 'author': 'Mark Twain', 'tags': ['death', 'life']}\n",
      "2025-01-09 11:37:24 [scrapy.core.scraper] DEBUG: Scraped from <200 https://quotes.toscrape.com/page/9/>\n",
      "{'text': '“A lie can travel half way around the world while the truth is putting on its shoes.”', 'author': 'Mark Twain', 'tags': ['misattributed-mark-twain', 'truth']}\n",
      "2025-01-09 11:37:24 [scrapy.core.scraper] DEBUG: Scraped from <200 https://quotes.toscrape.com/page/9/>\n",
      "{'text': '“I believe in Christianity as I believe that the sun has risen: not only because I see it, but because by it I see everything else.”', 'author': 'C.S. Lewis', 'tags': ['christianity', 'faith', 'religion', 'sun']}\n",
      "2025-01-09 11:37:25 [scrapy.core.engine] DEBUG: Crawled (200) <GET https://quotes.toscrape.com/page/10/> (referer: https://quotes.toscrape.com/page/9/)\n",
      "2025-01-09 11:37:25 [scrapy.core.scraper] DEBUG: Scraped from <200 https://quotes.toscrape.com/page/10/>\n",
      "{'text': '“The truth.\" Dumbledore sighed. \"It is a beautiful and terrible thing, and should therefore be treated with great caution.”', 'author': 'J.K. Rowling', 'tags': ['truth']}\n",
      "2025-01-09 11:37:25 [scrapy.core.scraper] DEBUG: Scraped from <200 https://quotes.toscrape.com/page/10/>\n",
      "{'text': \"“I'm the one that's got to die when it's time for me to die, so let me live my life the way I want to.”\", 'author': 'Jimi Hendrix', 'tags': ['death', 'life']}\n",
      "2025-01-09 11:37:25 [scrapy.core.scraper] DEBUG: Scraped from <200 https://quotes.toscrape.com/page/10/>\n",
      "{'text': '“To die will be an awfully big adventure.”', 'author': 'J.M. Barrie', 'tags': ['adventure', 'love']}\n",
      "2025-01-09 11:37:25 [scrapy.core.scraper] DEBUG: Scraped from <200 https://quotes.toscrape.com/page/10/>\n",
      "{'text': '“It takes courage to grow up and become who you really are.”', 'author': 'E.E. Cummings', 'tags': ['courage']}\n",
      "2025-01-09 11:37:25 [scrapy.core.scraper] DEBUG: Scraped from <200 https://quotes.toscrape.com/page/10/>\n",
      "{'text': '“But better to get hurt by the truth than comforted with a lie.”', 'author': 'Khaled Hosseini', 'tags': ['life']}\n",
      "2025-01-09 11:37:25 [scrapy.core.scraper] DEBUG: Scraped from <200 https://quotes.toscrape.com/page/10/>\n",
      "{'text': '“You never really understand a person until you consider things from his point of view... Until you climb inside of his skin and walk around in it.”', 'author': 'Harper Lee', 'tags': ['better-life-empathy']}\n",
      "2025-01-09 11:37:25 [scrapy.core.scraper] DEBUG: Scraped from <200 https://quotes.toscrape.com/page/10/>\n",
      "{'text': '“You have to write the book that wants to be written. And if the book will be too difficult for grown-ups, then you write it for children.”', 'author': \"Madeleine L'Engle\", 'tags': ['books', 'children', 'difficult', 'grown-ups', 'write', 'writers', 'writing']}\n",
      "2025-01-09 11:37:25 [scrapy.core.scraper] DEBUG: Scraped from <200 https://quotes.toscrape.com/page/10/>\n",
      "{'text': '“Never tell the truth to people who are not worthy of it.”', 'author': 'Mark Twain', 'tags': ['truth']}\n",
      "2025-01-09 11:37:25 [scrapy.core.scraper] DEBUG: Scraped from <200 https://quotes.toscrape.com/page/10/>\n",
      "{'text': \"“A person's a person, no matter how small.”\", 'author': 'Dr. Seuss', 'tags': ['inspirational']}\n",
      "2025-01-09 11:37:25 [scrapy.core.scraper] DEBUG: Scraped from <200 https://quotes.toscrape.com/page/10/>\n",
      "{'text': '“... a mind needs books as a sword needs a whetstone, if it is to keep its edge.”', 'author': 'George R.R. Martin', 'tags': ['books', 'mind']}\n",
      "2025-01-09 11:37:25 [scrapy.core.engine] INFO: Closing spider (finished)\n",
      "2025-01-09 11:37:25 [scrapy.extensions.feedexport] INFO: Stored csv feed (100 items) in: kaveri_QUOTES2.csv\n",
      "2025-01-09 11:37:25 [scrapy.statscollectors] INFO: Dumping Scrapy stats:\n",
      "{'downloader/request_bytes': 2685,\n",
      " 'downloader/request_count': 10,\n",
      " 'downloader/request_method_count/GET': 10,\n",
      " 'downloader/response_bytes': 110520,\n",
      " 'downloader/response_count': 10,\n",
      " 'downloader/response_status_count/200': 10,\n",
      " 'elapsed_time_seconds': 7.047703,\n",
      " 'feedexport/success_count/FileFeedStorage': 1,\n",
      " 'finish_reason': 'finished',\n",
      " 'finish_time': datetime.datetime(2025, 1, 9, 6, 7, 25, 182999, tzinfo=datetime.timezone.utc),\n",
      " 'item_scraped_count': 100,\n",
      " 'items_per_minute': None,\n",
      " 'log_count/DEBUG': 111,\n",
      " 'log_count/INFO': 11,\n",
      " 'memusage/max': 93863936,\n",
      " 'memusage/startup': 93863936,\n",
      " 'request_depth_max': 9,\n",
      " 'response_received_count': 10,\n",
      " 'responses_per_minute': None,\n",
      " 'scheduler/dequeued': 10,\n",
      " 'scheduler/dequeued/memory': 10,\n",
      " 'scheduler/enqueued': 10,\n",
      " 'scheduler/enqueued/memory': 10,\n",
      " 'start_time': datetime.datetime(2025, 1, 9, 6, 7, 18, 135296, tzinfo=datetime.timezone.utc)}\n",
      "2025-01-09 11:37:25 [scrapy.core.engine] INFO: Spider closed (finished)\n"
     ]
    }
   ],
   "source": [
    "import scrapy \n",
    "from scrapy.crawler import CrawlerProcess\n",
    "\n",
    "class QuotesSpider(scrapy.Spider):\n",
    "    name = \"quotes\"\n",
    "    start_urls = [\"https://quotes.toscrape.com/page/1/\"]\n",
    "\n",
    "    custom_settings = {\n",
    "        'FEEDS': {\n",
    "            'kaveri_QUOTES2.csv': { #3. where to save the extracted data\n",
    "                'format': 'csv',   #3. format of data. other formats like json and xml are also supported\n",
    "                'overwrite': True\n",
    "            }\n",
    "        }\n",
    "    }\n",
    "\n",
    "    def parse(self, response):\n",
    "        for quote in response.css('div.quote'):\n",
    "            yield {\n",
    "                'text': quote.css('span.text::text').get(),\n",
    "                'author': quote.css('small.author::text').get(),\n",
    "                'tags': quote.css('div.tags a.tag::text').getall(),\n",
    "            }\n",
    "\n",
    "        next_page = response.css('li.next a::attr(href)').get() \n",
    "        if next_page is not None:\n",
    "            next_page = response.urljoin(next_page)\n",
    "            yield scrapy.Request(next_page, callback=self.parse)\n",
    "\n",
    "process = CrawlerProcess() #define the crawler\n",
    "process.crawl(QuotesSpider) #attach the spider to the crawler\n",
    "process.start()"
   ]
  },
  {
   "cell_type": "markdown",
   "metadata": {},
   "source": [
    "In this example, the parse method uses the ```css()``` method of the ```Response``` object to extract the title of the page. The extracted title is then logged and yielded as a dictionary."
   ]
  },
  {
   "cell_type": "code",
   "execution_count": null,
   "metadata": {},
   "outputs": [],
   "source": []
  },
  {
   "cell_type": "code",
   "execution_count": null,
   "metadata": {},
   "outputs": [],
   "source": []
  },
  {
   "cell_type": "markdown",
   "metadata": {},
   "source": [
    "## Key Features of Scrapy Spiders\n",
    "\n",
    "*    **Asynchronous Processing**: Scrapy spiders operate asynchronously, allowing them to handle multiple requests simultaneously, which significantly speeds up the crawling process.\n",
    "*    **Selectors**: Scrapy provides powerful selectors based on XPath and CSS, enabling spiders to extract data from HTML documents efficiently.\n",
    "*    **Middleware**: You can customize the behavior of your spider by using middleware, which allows you to process requests and responses globally.\n"
   ]
  },
  {
   "cell_type": "markdown",
   "metadata": {},
   "source": [
    "## Summary of Key Features\n",
    "\n",
    "*    Selectors: The HtmlResponse class allows you to use both XPath and CSS selectors to navigate and extract data from the HTML document.\n",
    "*    Convenience: The response object in Scrapy automatically provides access to the selector, making it easy to work with HTML content without manual instantiation.\n",
    "*    Encoding: Proper encoding is crucial for accurately processing the HTML content, especially when dealing with non-ASCII characters.\n",
    "\n",
    "By understanding how to create and utilize HtmlResponse objects, you can effectively scrape and manipulate HTML data in your Scrapy projects."
   ]
  },
  {
   "cell_type": "markdown",
   "metadata": {},
   "source": [
    "## Best Practices for Writing Spiders\n",
    "\n",
    "*    Keep it Simple: Start with a simple spider and gradually add complexity as needed. This helps in debugging and maintaining the code.\n",
    "*    Respect ```Robots.txt```: Always check the robots.txt file of the website to ensure that your spider complies with the site's crawling policies.\n",
    "*    Use Item Loaders: For more complex data extraction, consider using item loaders to clean and validate the data before yielding it.\n"
   ]
  },
  {
   "cell_type": "markdown",
   "metadata": {},
   "source": [
    "# Conclusion\n",
    "\n",
    "Scrapy spiders are versatile and powerful tools for web scraping. By understanding their structure and capabilities, you can effectively extract data from various sources. For more detailed information, refer to the official Scrapy Spiders Documentation."
   ]
  }
 ],
 "metadata": {
  "kernelspec": {
   "display_name": "project1",
   "language": "python",
   "name": "python3"
  },
  "language_info": {
   "codemirror_mode": {
    "name": "ipython",
    "version": 3
   },
   "file_extension": ".py",
   "mimetype": "text/x-python",
   "name": "python",
   "nbconvert_exporter": "python",
   "pygments_lexer": "ipython3",
   "version": "3.10.4"
  }
 },
 "nbformat": 4,
 "nbformat_minor": 2
}
