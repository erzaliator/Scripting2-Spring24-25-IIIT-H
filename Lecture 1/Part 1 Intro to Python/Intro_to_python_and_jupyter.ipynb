{
 "cells": [
  {
   "cell_type": "code",
   "execution_count": null,
   "metadata": {},
   "outputs": [],
   "source": [
    "# References (further reading):\n",
    "\n",
    "* Jupypter notebooks: https://realpython.com/jupyter-notebook-introduction/\n",
    "* Python: https://docs.python.org/3/tutorial/introduction.html\n",
    "* Python script: https://exeter-data-analytics.github.io/python-intro/first_script.html"
   ]
  },
  {
   "attachments": {},
   "cell_type": "markdown",
   "metadata": {},
   "source": [
    "# Python \n",
    "\n",
    "Python is a high-level, interpreted, interactive and object-oriented **scripting language**. Python is designed to be highly readable.\n",
    "\n",
    "1. Python is *Interpreted* − Python is processed at runtime by the interpreter. You do not need to compile your program before executing it. This is similar to PERL and PHP.\n",
    "\n",
    "2. Python is *Interactive* − You can actually sit at a Python prompt and interact with the interpreter directly to write your programs.\n",
    "\n",
    "3. Python is *Object-Oriented* − Python supports Object-Oriented style or technique of programming that encapsulates code within objects."
   ]
  },
  {
   "attachments": {},
   "cell_type": "markdown",
   "metadata": {},
   "source": [
    "## Introduction to Jupyter Notebooks\n",
    "\n",
    "Jupter notebooks are a great way to write and run code in a browser. They are also a great way to document your code and results.\n",
    "\n",
    "Each singular unit is called a *cell*. Cells can be either *code* or *markdown*. Code cells are used to write and run code. Markdown cells are used to write text. You can change the type of a cell by clicking on the dropdown menu in the toolbar.\n",
    "\n",
    "\n",
    "Select the code cell, press \"esc + m \",and it will be a markdown cell. moreover, from markdown cell to code cell, press \" esc + y \"."
   ]
  },
  {
   "attachments": {},
   "cell_type": "markdown",
   "metadata": {},
   "source": [
    "Note you will be asked to select the kernel for the notebook. Select the kernel you created in the setup file. If you don't see it, click in \"Select another kernel\" > \"Python environment\" and select it from the list."
   ]
  },
  {
   "attachments": {},
   "cell_type": "markdown",
   "metadata": {},
   "source": [
    "### Handling notebooks \n",
    "\n",
    "1. Create a new notebook\n",
    "\n",
    "* Click \"File\" > \"New File...\" > \"Jupyter Notebook\"\n",
    "\n",
    "2. Write a cell in the new notebook\n",
    "\n",
    "```\n",
    "# This is a comment.\n",
    "\n",
    "print('Hello World')\n",
    "```\n",
    "\n",
    "3. Run a cell\n",
    "\n",
    "* Click the \"Run\" button in the toolbar\n",
    "\n",
    "4. Save the notebook"
   ]
  },
  {
   "attachments": {},
   "cell_type": "markdown",
   "metadata": {},
   "source": [
    "### Create a new cell below this one and try to print the string \"Hello World!\". \n",
    "\n",
    "Click on the dropdown menu and select \"Insert\" -> \"Insert Cell Below\" to create a new cell.\n",
    "\n",
    "or\n",
    "\n",
    "Click on the dropdown menu and select \"Insert\" -> \"Insert Cell Above\" to create a new cell."
   ]
  },
  {
   "cell_type": "code",
   "execution_count": null,
   "metadata": {},
   "outputs": [],
   "source": []
  },
  {
   "attachments": {},
   "cell_type": "markdown",
   "metadata": {},
   "source": [
    "## Introduction to Python"
   ]
  },
  {
   "attachments": {},
   "cell_type": "markdown",
   "metadata": {},
   "source": [
    "### Standard Data Types"
   ]
  },
  {
   "cell_type": "code",
   "execution_count": null,
   "metadata": {},
   "outputs": [],
   "source": [
    "\n",
    "\n",
    "# The data stored in memory can be of many types. For example, a person's age is stored as a numeric value and his or her address is stored as alphanumeric characters. Python has various standard data types that are used to define the operations possible on them and the storage method for each of them.\n",
    "\n",
    "# Python has five standard data types −\n",
    "\n",
    "# * Numbers\n",
    "# * String\n",
    "# * List\n",
    "# * Tuple\n",
    "# * Dictionary\n",
    "\n",
    "\n",
    "# Python numbers\n",
    "# Numeric values\n",
    "foo = 5\n",
    "\n",
    "# Python strings\n",
    "# Contiguous set of characters\n",
    "bar_1 = 'Hello World!'\n",
    "bar_2 = \"Hello World!\" #both are assigned similar values\n",
    "\n",
    "# Python lists\n",
    "# Ordered sequence of values\n",
    "baz = [1, 2, 3, 4, 5]\n",
    "\n",
    "# Python tuples\n",
    "# Ordered sequence of values. Similar to lists but immutable (modifications not allowed)\n",
    "qux = (1, 2, 3, 4, 5)\n",
    "#try to modify qux\n",
    "qux[0] = 10 #this will throw an error\n",
    "\n",
    "# Python dictionaries\n",
    "# Unordered key-value pairs\n",
    "quux = {'foo': 1, 'bar': 2, 'baz': 3}"
   ]
  },
  {
   "attachments": {},
   "cell_type": "markdown",
   "metadata": {},
   "source": [
    "### Lists"
   ]
  },
  {
   "cell_type": "code",
   "execution_count": null,
   "metadata": {},
   "outputs": [],
   "source": [
    "# Lists are enclosed in brackets ( [ ] ) and their elements and size can be changed, while tuples are enclosed in parentheses ( ( ) ) and cannot be updated. Tuples can be thought of as read-only lists. For example −\n",
    "\n",
    "tuple = ( 'abcd', 786 , 2.23, 'john', 70.2  )\n",
    "tinytuple = (123, 'john')\n",
    "\n",
    "print(tuple)               # Prints the complete tuple\n",
    "print(tuple[0])            # Prints first element of the tuple. These are zero indexed\n",
    "print(tuple[1])            # Prints second element of the tuple. \n",
    "print(tuple[2])            # Prints third element of the tuple.\n",
    "print(tuple[1:])           # Prints elements starting from 2nd till last element\n",
    "print(tuple[1:3])          # Prints elements of the tuple starting from 2nd till 3rd\n",
    "print(tuple + tinytuple)   # Prints concatenated tuples\n",
    "\n",
    "\n",
    "# Here is how indexing works in Python for a string called \"foobar\" −\n",
    "#  +---+---+---+---+---+---+\n",
    "#  | F | o | o | b | a | r |\n",
    "#  +---+---+---+---+---+---+\n",
    "#  0   1   2   3   4   5   6\n",
    "# -6  -5  -4  -3  -2  -1"
   ]
  },
  {
   "attachments": {},
   "cell_type": "markdown",
   "metadata": {},
   "source": [
    "### Dictionary"
   ]
  },
  {
   "cell_type": "code",
   "execution_count": null,
   "metadata": {},
   "outputs": [],
   "source": [
    "# Python's dictionaries are kind of hash table type. \n",
    "# Python dictionaries are a mapping of key-value pairs. This means each element in the dictionary is accessed using its key. For example −\n",
    "\n",
    "dict = {}\n",
    "dict['one'] = \"This is one\"\n",
    "dict[2]     = \"This is two\"\n",
    "\n",
    "tinydict = {'name': 'john','code':6734, 'dept': 'sales'}\n",
    "print(dict['one'])          # Prints value for 'one' key\n",
    "print(dict[2])              # Prints value for 2 key\n",
    "print(tinydict)             # Prints complete dictionary\n",
    "print(tinydict['code'])     # Prints value for 'code' key "
   ]
  },
  {
   "attachments": {},
   "cell_type": "markdown",
   "metadata": {},
   "source": [
    "### Operators\n"
   ]
  },
  {
   "cell_type": "code",
   "execution_count": null,
   "metadata": {},
   "outputs": [],
   "source": [
    "# Python language supports the following types of operators - \n",
    "\n",
    "# * Arithmetic Operators\n",
    "# * Comparison (Relational) Operators\n",
    "# * Assignment Operators\n",
    "# * Logical Operators\n",
    "# * Bitwise Operators\n",
    "# * Membership Operators\n",
    "# * Identity Operators\n",
    "\n",
    "\n",
    "# Let us see what some of them look like:\n",
    "\n",
    "\n",
    "\n",
    "# Arithmetic operators - \n",
    "\n",
    "\n",
    "# + Addition\tAdds values on either side of the operator.\ta + b = 30\n",
    "# - Subtraction\tSubtracts right hand operand from left hand operand.\ta – b = -10\n",
    "# * Multiplication\tMultiplies values on either side of the operator\ta * b = 200\n",
    "# / Division\tDivides left hand operand by right hand operand\tb / a = 2\n",
    "# % Modulus\tDivides left hand operand by right hand operand and returns remainder\tb % a = 0\n",
    "# ** Exponent\tPerforms exponential (power) calculation on operators\ta**b =10 to the power 20\n",
    "a = 10\n",
    "b = 20\n",
    "print(a+b)\n",
    "print(a-b)\n",
    "print(a*b)\n",
    "print(b/a)\n",
    "print(b%a)\n",
    "\n",
    "\n",
    "# Comparision operators -\n",
    "\n",
    "\n",
    "# ==\tIf the values of two operands are equal, then the condition becomes true.\t(a == b) is not true.\n",
    "# !=\tIf values of two operands are not equal, then condition becomes true.\t(a != b) is true.\n",
    "# >\tIf the value of left operand is greater than the value of right operand, then condition becomes true.\t(a > b) is not true.\n",
    "# <\tIf the value of left operand is less than the value of right operand, then condition becomes true.\t(a < b) is true.\n",
    "# >=\tIf the value of left operand is greater than or equal to the value of right operand, then condition becomes true.\t(a >= b) is not true.\n",
    "# <=\tIf the value of left operand is less than or equal to the value of right operand, then condition becomes true.\t(a <= b) is true.\n",
    "c = 10\n",
    "print(a==b)\n",
    "print(a!=b)\n",
    "print(a==c)\n",
    "print(a>b)\n",
    "print(a<b)\n",
    "print(a>=b)\n",
    "\n",
    "\n",
    "# Assignment Operators - \n",
    "\n",
    "\n",
    "# =\tAssigns values from right side operands to left side operand\tc = a + b assigns value of a + b into c\n",
    "# += Add AND\tIt adds right operand to the left operand and assign the result to left operand\tc += a is equivalent to c = c + a\n",
    "# -= Subtract AND\tIt subtracts right operand from the left operand and assign the result to left operand\tc -= a is equivalent to c = c - a\n",
    "# *= Multiply AND\tIt multiplies right operand with the left operand and assign the result to left operand\tc *= a is equivalent to c = c * a\n",
    "# /= Divide AND\tIt divides left operand with the right operand and assign the result to left operand\tc /= a is equivalent to c = c / a\n",
    "a += 5\n",
    "print(a)\n",
    "\n",
    "\n",
    "\n",
    "\n",
    "\n",
    "\n",
    "\n",
    "# Logical Operators - \n",
    "\n",
    "\n",
    "# [and Logical AND]\tIf both the operands are true then condition becomes true.\t(a and b) is true.\n",
    "# [or Logical OR]\tIf any of the two operands are non-zero then condition becomes true.\t(a or b) is true.\n",
    "# [not Logical NOT]\tUsed to reverse the logical state of its operand.\tNot(a and b) is false.\n",
    "\n",
    "# Boolean variables\n",
    "# What are boolean variables? They are variables that can take only two values: True or False.\n",
    "# Boolean variables are used to store the truth value of an expression. For example, the expression 1 < 2 is True, while the expression 1 > 2 is False.\n",
    "# Boolean variables are very useful in programming. They are often used as flags to indicate whether certain conditions have been met. For example, you can have a boolean variable called is_logged_in to indicate whether a user has logged in to a website or not.\n",
    "\n",
    "# Boolean operators\n",
    "# Boolean operators are operators that are used to perform logical operations on boolean variables. The three basic boolean operators are: and, or, and not.\n",
    "a = True\n",
    "b = False\n",
    "print(a and b)\n",
    "print(a or b)\n",
    "print(not a)\n",
    "print(a AND b) #this will throw an error"
   ]
  },
  {
   "attachments": {},
   "cell_type": "markdown",
   "metadata": {},
   "source": [
    "### First step towards programming"
   ]
  },
  {
   "attachments": {},
   "cell_type": "markdown",
   "metadata": {},
   "source": [
    "#### While loop"
   ]
  },
  {
   "cell_type": "code",
   "execution_count": 1,
   "metadata": {},
   "outputs": [
    {
     "name": "stdout",
     "output_type": "stream",
     "text": [
      "0\n",
      "1\n",
      "2\n",
      "4\n",
      "8\n"
     ]
    }
   ],
   "source": [
    "# Of course, we can use Python for more complicated tasks than adding two and two together. For instance, we can write an initial sub-sequence of the Fibonacci series as follows:\n",
    "\n",
    "# Fibonacci series:\n",
    "# the sum of two elements defines the next\n",
    "a=0\n",
    "b=1\n",
    "while a < 10:\n",
    "    print(a)\n",
    "    a=b\n",
    "    b = a+b # b = 1+1 = 2, b = 2+2 = 4, b = 4+4 = 8, b = 8+8 = 16\n",
    "\n",
    "\n",
    "# The while loop executes as long as the condition (here: a < 10) remains true. This prints the Fibonacci series up to the number 10.\n",
    "# In Python, any non-zero integer value is true; zero is false. \n",
    "# The test used in the example is a simple comparison.\n",
    "\n",
    "# The body of the loop is indented\n",
    "\n"
   ]
  },
  {
   "attachments": {},
   "cell_type": "markdown",
   "metadata": {},
   "source": [
    "#### If statements"
   ]
  },
  {
   "cell_type": "code",
   "execution_count": 2,
   "metadata": {},
   "outputs": [
    {
     "name": "stdout",
     "output_type": "stream",
     "text": [
      "x is positive\n"
     ]
    }
   ],
   "source": [
    "# The if statement is used to check a condition: if the condition is true, we run a block of statements (called the if-block), else we process another block of statements (called the else-block). The else clause is optional.\n",
    "\n",
    "# if statement example\n",
    "x = 5\n",
    "if x > 0:\n",
    "    print(\"x is positive\")\n"
   ]
  },
  {
   "cell_type": "code",
   "execution_count": 3,
   "metadata": {},
   "outputs": [
    {
     "name": "stdout",
     "output_type": "stream",
     "text": [
      "x is negative\n"
     ]
    }
   ],
   "source": [
    "# if-else statement example\n",
    "x = -5\n",
    "if x > 0:\n",
    "    print(\"x is positive\")\n",
    "else:\n",
    "    print(\"x is negative\")"
   ]
  },
  {
   "attachments": {},
   "cell_type": "markdown",
   "metadata": {},
   "source": [
    "#### For loops"
   ]
  },
  {
   "cell_type": "code",
   "execution_count": 4,
   "metadata": {},
   "outputs": [
    {
     "name": "stdout",
     "output_type": "stream",
     "text": [
      "A: Hello\n",
      "B: Hi, I am good\n",
      "A: How are you?\n",
      "B: I am fine\n",
      "A: I am glad to hear that\n",
      "B: Thank you\n",
      "A: Bye\n",
      "B: Bye\n"
     ]
    }
   ],
   "source": [
    "# Python’s for statement iterates over the items of any sequence (a list or a string), in the order that they appear in the sequence.\n",
    "\n",
    "responses = [\"A: Hello\", \"B: Hi, I am good\", \"A: How are you?\", \"B: I am fine\", \"A: I am glad to hear that\", \"B: Thank you\", \"A: Bye\", \"B: Bye\"]\n",
    "for r in responses:\n",
    "    print(r)"
   ]
  },
  {
   "cell_type": "code",
   "execution_count": 6,
   "metadata": {},
   "outputs": [
    {
     "name": "stdout",
     "output_type": "stream",
     "text": [
      "range(0, 5)\n",
      "0\n",
      "1\n",
      "2\n",
      "3\n",
      "4\n"
     ]
    }
   ],
   "source": [
    "# Range function is used to generate a sequence of numbers. It is often used in for loops.\n",
    "\n",
    "print(range(5)) # 0, 1, 2, 3, 4\n",
    "\n",
    "for i in range(5):\n",
    "    print(i)"
   ]
  },
  {
   "cell_type": "code",
   "execution_count": 8,
   "metadata": {},
   "outputs": [
    {
     "name": "stdout",
     "output_type": "stream",
     "text": [
      "0\n",
      "1\n",
      "2\n",
      "3\n",
      "4\n",
      "5\n",
      "6\n",
      "7\n"
     ]
    }
   ],
   "source": [
    "# Break and continue statements are used to change the flow of a normal loop. break terminates the loop entirely. continue skips the rest of the current iteration, and continues with the next.\n",
    "\n",
    "# break statement example\n",
    "for i in range(10):\n",
    "    if i == 8:\n",
    "        break\n",
    "    print(i)"
   ]
  },
  {
   "cell_type": "code",
   "execution_count": 9,
   "metadata": {},
   "outputs": [
    {
     "name": "stdout",
     "output_type": "stream",
     "text": [
      "0\n",
      "1\n",
      "2\n",
      "4\n"
     ]
    }
   ],
   "source": [
    "# continue statement example\n",
    "for i in range(5):\n",
    "    if i == 3:\n",
    "        continue\n",
    "    print(i)"
   ]
  },
  {
   "attachments": {},
   "cell_type": "markdown",
   "metadata": {},
   "source": [
    "#### Functions"
   ]
  },
  {
   "cell_type": "code",
   "execution_count": 10,
   "metadata": {},
   "outputs": [
    {
     "name": "stdout",
     "output_type": "stream",
     "text": [
      "Hello From My Function!\n"
     ]
    }
   ],
   "source": [
    "# Functions are a convenient way to divide your code into useful blocks, allowing us to order our code, make it more readable, reuse it and save some time. Also functions are a key way to define interfaces so programmers can share their code.\n",
    "\n",
    "# Functions in Python are defined using the block keyword def, followed with the function's name as the block's name. For example:\n",
    "\n",
    "def my_function():\n",
    "    print(\"Hello From My Function!\")\n",
    "\n",
    "my_function()"
   ]
  },
  {
   "cell_type": "code",
   "execution_count": 11,
   "metadata": {},
   "outputs": [
    {
     "name": "stdout",
     "output_type": "stream",
     "text": [
      "Hello, John Doe , From My Function!, I wish you a great year!\n"
     ]
    }
   ],
   "source": [
    "# Functions may also receive arguments (variables passed from the caller to the function). For example:\n",
    "\n",
    "def my_function_with_args(username, greeting):\n",
    "    print(\"Hello, %s , From My Function!, I wish you %s\"%(username, greeting))\n",
    "\n",
    "my_function_with_args(\"John Doe\", \"a great year!\")"
   ]
  },
  {
   "cell_type": "code",
   "execution_count": 2,
   "metadata": {},
   "outputs": [
    {
     "name": "stdout",
     "output_type": "stream",
     "text": [
      "0\n",
      "1\n",
      "2\n",
      "4\n",
      "8\n"
     ]
    }
   ],
   "source": [
    "# Functions may return a value to the caller, using the keyword- 'return' . \n",
    "\n",
    "# We can also use functions to assign default values to parameters. This is done by assigning a value to the parameter when we declare it. For example:\n",
    "\n",
    "def sum_two_numbers(a, b):\n",
    "    return a + b\n",
    "\n",
    "def print_fibonacci(n):\n",
    "    '''\n",
    "    print_fibonacci(10) will print the fibonacci series up to the number 10\n",
    "    b is the sum of the previous two numbers. It is assigned to the sum of the previous two numbers using another function sum_two_numbers(a,b)\n",
    "    '''\n",
    "    a=0\n",
    "    b=1\n",
    "    while a < n:\n",
    "        print(a)\n",
    "        a=b\n",
    "        b = sum_two_numbers(a,b)\n",
    "\n",
    "print_fibonacci(10) # "
   ]
  },
  {
   "attachments": {},
   "cell_type": "markdown",
   "metadata": {},
   "source": [
    "### Modules and Packages"
   ]
  },
  {
   "cell_type": "code",
   "execution_count": 1,
   "metadata": {},
   "outputs": [
    {
     "name": "stdout",
     "output_type": "stream",
     "text": [
      "0 1 1 2 3 5 8 13 21 34 55 89 144 233 377 610 987 \n"
     ]
    }
   ],
   "source": [
    "# Modules are pieces of code that other people have written to fulfill common tasks, such as generating random numbers, performing mathematical operations, etc. \n",
    "# The basic way to use a module is to add import module_name at the top of your code, and then using module_name.var to access functions and values with the name var in the module. \n",
    "# For example, the following example uses the fibo module (present in Tutorial_0 folder) and calls its fib function to print a Fibonacci series:\n",
    "\n",
    "\n",
    "import fibo\n",
    "\n",
    "fibo.fib(1000)"
   ]
  },
  {
   "cell_type": "code",
   "execution_count": 6,
   "metadata": {},
   "outputs": [
    {
     "name": "stdout",
     "output_type": "stream",
     "text": [
      "0 1 1 2 3 5 8 13 21 34 55 89 144 233 377 \n",
      "[0, 1, 1, 2, 3, 5, 8, 13, 21, 34, 55, 89, 144, 233, 377]\n"
     ]
    }
   ],
   "source": [
    "# There is a variant of the import statement that imports names from a module directly into the importing module’s namespace. For example:\n",
    "\n",
    "from fibo import fib, fib2\n",
    "\n",
    "fib(500)\n",
    "      \n",
    "a = fib2(500)\n",
    "print(a)"
   ]
  },
  {
   "attachments": {},
   "cell_type": "markdown",
   "metadata": {},
   "source": [
    "#### Libraries for NLP\n",
    "\n",
    "Python has a very wide range of libraries.\n",
    "\n",
    "Some of the most popular libraries for NLP are:\n",
    "\n",
    "* NLTK\n",
    "* spaCy\n",
    "* Gensim\n",
    "* HuggingFace Transformers"
   ]
  },
  {
   "cell_type": "code",
   "execution_count": 10,
   "metadata": {},
   "outputs": [
    {
     "name": "stdout",
     "output_type": "stream",
     "text": [
      "Apple 0 5 ORG\n",
      "U.K. 27 31 GPE\n",
      "$1 billion 44 54 MONEY\n"
     ]
    }
   ],
   "source": [
    "# Let us see how to import a lirary module called spacy. We will use it to extract the named entities from a sentence.\n",
    "\n",
    "import spacy # import the library\n",
    "\n",
    "# Load English tokenizer, tagger, parser, NER and word vectors\n",
    "nlp = spacy.load(\"en_core_web_sm\") # load the english model\n",
    "doc = nlp(\"Apple is looking at buying U.K. startup for $1 billion\")\n",
    "\n",
    "# Find named entities, phrases and concepts\n",
    "for ent in doc.ents:\n",
    "    print(ent.text, ent.start_char, ent.end_char, ent.label_)"
   ]
  }
 ],
 "metadata": {
  "kernelspec": {
   "display_name": "kaveri_py310",
   "language": "python",
   "name": "python3"
  },
  "language_info": {
   "codemirror_mode": {
    "name": "ipython",
    "version": 3
   },
   "file_extension": ".py",
   "mimetype": "text/x-python",
   "name": "python",
   "nbconvert_exporter": "python",
   "pygments_lexer": "ipython3",
   "version": "3.10.13"
  },
  "orig_nbformat": 4
 },
 "nbformat": 4,
 "nbformat_minor": 2
}
