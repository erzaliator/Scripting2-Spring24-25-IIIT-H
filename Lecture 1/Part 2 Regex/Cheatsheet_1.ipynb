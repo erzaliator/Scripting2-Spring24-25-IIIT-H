{
 "cells": [
  {
   "cell_type": "code",
   "execution_count": null,
   "metadata": {},
   "outputs": [],
   "source": [
    "# Cheatsheet"
   ]
  },
  {
   "cell_type": "code",
   "execution_count": null,
   "metadata": {},
   "outputs": [],
   "source": []
  },
  {
   "cell_type": "markdown",
   "metadata": {},
   "source": [
    "# Related work: Regex"
   ]
  },
  {
   "cell_type": "markdown",
   "metadata": {},
   "source": [
    "Regular Expressions, also known as “regex” or “regexp”, are used to match strings of text such as particular characters, words, or patterns of characters. It means that we can match and extract any string pattern from the text with the help of regular expressions. \n",
    "\n",
    "\n",
    "I have used two terms, match and extract and both the terms have a slightly different meaning. There may be cases when we want to match a specific pattern but extract a subset of it. For example, we want to extract the names of PhD scholars from a list of names of people in an organization.\n",
    "\n",
    "In this case, we will match the “Dr XYZ” keyword and extract only the name, i.e. “XYZ” not the prefix “Dr.” from the list.  Regex is very useful in searching through large texts, emails, and documents. Regex is also called “programming language for the string matching”. Before diving into the regular expressions and their implementation in python, it is important to know their applications in the real world."
   ]
  },
  {
   "cell_type": "code",
   "execution_count": null,
   "metadata": {},
   "outputs": [],
   "source": []
  },
  {
   "cell_type": "markdown",
   "metadata": {},
   "source": [
    "Wild Card patterns\n",
    "The smallest individual units through the regular expressions are formed are called wild-card patterns. The list of commonly used patterns are\n",
    "\n",
    "^\n",
    "\n",
    "This wild card matches the characters at the beginning of a line.\n",
    "\n",
    "$\n",
    "\n",
    "This wild card matches the characters at the end of the line.\n",
    "\n",
    ".\n",
    "\n",
    "This wild card matches any character in the line.\n",
    "\n",
    "s\n",
    "\n",
    "This wild card is used to match space in a string.\n",
    "\n",
    "\n",
    "d\n",
    "\n",
    "This wild card matches one digit.\n",
    "\n",
    "*\n",
    "\n",
    "This wild card repeats any preceding character zero or more times. It matches the longest possible string.\n",
    "\n",
    "*?\n",
    "\n",
    "This wild card also repeats any preceding character/characters zero or more times. However, it matches the shortest string following the pattern.\n",
    "\n",
    "+\n",
    "\n",
    "This wild card repeats any preceding character one or more times. It matches the longest possible string following the pattern.\n",
    "\n",
    "+?\n",
    "\n",
    "This wild card repeats any preceding character one or more times. However, it matches the shortest possible string following the pattern.\n",
    "\n",
    "[aeiou]\n",
    "\n",
    "It matches any character from a set of given characters.\n",
    "\n",
    "[^XYZ]\n",
    "\n",
    "It matches any character not given in the set.\n",
    "\n",
    " [a-z0-9]\n",
    "\n",
    "It matches any character given in the a-z or 0-9.\n",
    "\n",
    "(\n",
    "\n",
    "This wild card represents the beginning of the string extraction.\n",
    "\n",
    ")\n"
   ]
  },
  {
   "cell_type": "markdown",
   "metadata": {},
   "source": [
    "### match method\n",
    "\n"
   ]
  },
  {
   "cell_type": "code",
   "execution_count": null,
   "metadata": {},
   "outputs": [
    {
     "name": "stdout",
     "output_type": "stream",
     "text": [
      "<re.Match object; span=(0, 27), match='Hi I am Eliza. I am a chatb'>\n",
      "Hi I am Eliza. I am a chatb\n"
     ]
    }
   ],
   "source": [
    "# This function searches for the RE pattern at the beginning of the string and returns the match object of the string. The value in the object can be accessed through the group() function. The syntax of the match function is\n",
    "\n",
    "# re.match(pattern, string, flags)\n",
    "\n",
    "\n",
    "\n",
    "\n",
    "import re\n",
    "string = \"\"\"Hi I am Eliza. I am a chatbot. Welcome to the study group. I was born on October 13, 2023. I am a computer program. I am a therapist. I will also run again on October 23, 2023. I am so excited to meet you all.\"\"\"\n",
    "\n",
    "#match the string starting with H and ending with b     . ? is used to match the shortest string     . matches any character  and ? matches 0 or 1 occurences of the previous character(.)\n",
    "pattern=r'^H.+?b' \n",
    "\n",
    "print(re.match(pattern,string))      # Returns the match object. An object is a python data type which contains both data and functions. In this case, the object contains a \n",
    "\n",
    "print(re.match(pattern,string).group()) #Extracting value from the object"
   ]
  },
  {
   "cell_type": "markdown",
   "metadata": {},
   "source": [
    "### groups"
   ]
  },
  {
   "cell_type": "code",
   "execution_count": null,
   "metadata": {},
   "outputs": [
    {
     "name": "stdout",
     "output_type": "stream",
     "text": [
      "Singular greedy match:  Hi I am Eliza. I am a chatb\n",
      "All matches:  ['Hi I am Eliza. I am a chatb', 'Welcome to the study group', 'October 13, 2023', 'October 23, 2023']\n"
     ]
    }
   ],
   "source": [
    "# The previous example was a simple one with match.\n",
    "\n",
    "# We can also use the match function to extract the multiple values from the string with the help of a group function. The group function is used to extract the value from the match object. For example:\n",
    "\n",
    "# match the string starting with H and ending with b, the string between Welcome and group, all strings between O and a four digit number\n",
    "\n",
    "pattern=r'^H.+?b|Welcome.+?group|O.+?\\d{4}'\n",
    "print(\"Singular greedy match: \", re.match(pattern,string).group()) # group() function is used to extract the value from the match object\n",
    "\n",
    "#this prints only the first match. To print all the matches, we use the findall function\n",
    "\n",
    "print(\"All matches: \", re.findall(pattern,string)) #findall function returns a list of all the matches"
   ]
  },
  {
   "cell_type": "markdown",
   "metadata": {},
   "source": [
    "## Python demo: 🖥️ Regex makes a chatbot 🖥️"
   ]
  },
  {
   "cell_type": "code",
   "execution_count": null,
   "metadata": {},
   "outputs": [
    {
     "name": "stdout",
     "output_type": "stream",
     "text": [
      "Hi, how can I help you?\n"
     ]
    }
   ],
   "source": [
    "user_input='hi . nice to meet you'\n",
    "pattern_greet = r'hi|hello|hey' # | is used to match either of the strings\n",
    "response_name = \"Hi, how can I help you?\" # %s is a placeholder for string\n",
    "\n",
    "if re.match(pattern_greet,user_input):\n",
    "    print(response_name) #name[0] is the first element of the list name"
   ]
  },
  {
   "cell_type": "code",
   "execution_count": null,
   "metadata": {},
   "outputs": [
    {
     "name": "stdout",
     "output_type": "stream",
     "text": [
      "Hi John nice to meet you too\n"
     ]
    }
   ],
   "source": [
    "sentence = \"hi my name is John. Nice to meet you.\"\n",
    "name = re.findall(r'hi my name is (\\w+)', sentence)\n",
    "\n",
    "# Print the name\n",
    "print('Hi', name[0], 'nice to meet you too')"
   ]
  }
 ],
 "metadata": {
  "language_info": {
   "name": "python"
  },
  "orig_nbformat": 4
 },
 "nbformat": 4,
 "nbformat_minor": 2
}
