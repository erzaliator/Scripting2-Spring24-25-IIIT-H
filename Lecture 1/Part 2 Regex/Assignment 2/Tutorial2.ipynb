{
 "cells": [
  {
   "cell_type": "markdown",
   "metadata": {
    "id": "9UDtrAkki7To"
   },
   "source": [
    "## Word normalization\n",
    "The previous lesson demonstrated using regex to answer Eliza questions. In this lesson, we will use regex and python NLP utility libraries to process text."
   ]
  },
  {
   "cell_type": "markdown",
   "metadata": {
    "id": "uykVa42xi7Tr"
   },
   "source": [
    "# Demo"
   ]
  },
  {
   "cell_type": "markdown",
   "metadata": {},
   "source": [
    "# Question 1: Run the demo\n",
    "\n",
    "Go through the demo of tokenization libraries and note their respective behaviours."
   ]
  },
  {
   "cell_type": "markdown",
   "metadata": {
    "id": "U80-ZLY8i7Ts"
   },
   "source": [
    "#### Tokenization using 📚 nltk 📚\n",
    "\n",
    "NLTK is python library. It is used for natural language processing. It has many features like tokenization, stemming, lemmatization, POS tagging, etc.\n",
    "Today we will see how to use NLTK for tokenization.\n",
    "\n",
    "NLTK offers many different types of tokenizers based on your use case. We will see some of them here.\n",
    "1. Word Tokenizer\n",
    "2. Sentence Tokenizer\n",
    "3. Regexp Tokenizer\n"
   ]
  },
  {
   "cell_type": "markdown",
   "metadata": {
    "id": "l3sFPR2Pi7Ts"
   },
   "source": [
    "#### Word Tokenizer\n",
    "* Word tokenizer is used to tokenize the text into words.\n",
    "* It is used to split a sentence into words. It uses the space between two words to split the sentence.\n",
    "* It uses a simple logic that is also quite prone to errors. Let’s see an example of how it works.\n"
   ]
  },
  {
   "cell_type": "code",
   "execution_count": 6,
   "metadata": {
    "id": "e9shlXPbi7Ts"
   },
   "outputs": [
    {
     "data": {
      "text/plain": [
       "['I', 'am', 'learning', 'NLP']"
      ]
     },
     "execution_count": 6,
     "metadata": {},
     "output_type": "execute_result"
    }
   ],
   "source": [
    "from nltk.tokenize import word_tokenize\n",
    "text = \"I am learning NLP\"\n",
    "word_tokenize(text)"
   ]
  },
  {
   "cell_type": "markdown",
   "metadata": {
    "id": "D6nPPzMHi7Tt"
   },
   "source": [
    "#### Sentence Tokenizer\n",
    "* Sentence tokenizer is used to tokenize the text into sentences.\n",
    "* It is used to split a paragraph or a large sentence into sentences.\n",
    "* It uses periods (.) to split the text into sentences.\n"
   ]
  },
  {
   "cell_type": "code",
   "execution_count": 7,
   "metadata": {
    "id": "8YwpI8EJi7Tt"
   },
   "outputs": [
    {
     "data": {
      "text/plain": [
       "['I am learning NLP.',\n",
       " 'It is very interesting and exciting.',\n",
       " 'I am enjoying this course.']"
      ]
     },
     "execution_count": 7,
     "metadata": {},
     "output_type": "execute_result"
    }
   ],
   "source": [
    "from nltk.tokenize import sent_tokenize\n",
    "text = \"I am learning NLP. It is very interesting and exciting. I am enjoying this course.\"\n",
    "sent_tokenize(text)"
   ]
  },
  {
   "cell_type": "markdown",
   "metadata": {
    "id": "jQHm-8Ski7Tu"
   },
   "source": [
    "\n",
    "#### Regex Tokenizer\n",
    "* Regex tokenizer is used to tokenize the text using regular expressions.\n",
    "* It is used to split a string into substrings using a regular expression.\n",
    "* It uses regular expressions to split the text into tokens.\n"
   ]
  },
  {
   "cell_type": "code",
   "execution_count": 8,
   "metadata": {
    "id": "5rf9qHpni7Tu"
   },
   "outputs": [
    {
     "data": {
      "text/plain": [
       "['https://www.analyticsvidhya.com/blog/2020/04/beginners-guide-exploratory-data-analysis-text-data/.']"
      ]
     },
     "execution_count": 8,
     "metadata": {},
     "output_type": "execute_result"
    }
   ],
   "source": [
    "from nltk.tokenize import RegexpTokenizer\n",
    "\n",
    "# Create a regular expression tokenizer to handle urls and words\n",
    "tokenizer = RegexpTokenizer(\"www\\.[^\\s]+|https?://[^\\s]+|\\d+\\.?\\d*\")\n",
    "\n",
    "# Tokenize the text\n",
    "text = \"I am learning NLP. It is very interesting and exciting. I am enjoying this course. You can learn more about NLP at https://www.analyticsvidhya.com/blog/2020/04/beginners-guide-exploratory-data-analysis-text-data/.\"\n",
    "tokenizer.tokenize(text)\n",
    "\n",
    "# We first initialized RegexpTokenizer using a regex pattern. Then we used the tokenize() method to tokenize the text."
   ]
  },
  {
   "cell_type": "markdown",
   "metadata": {
    "id": "4AOLTARAi7Tu"
   },
   "source": [
    "## Tokenization using ☁️ Spacy ☁️\n",
    "\n",
    "Spacy is a library with support for NLP-related tasks such as tokenization, POS tagging, named entity recognition, etc.\n",
    "\n",
    "Spacy has more features than nltk and is faster. Other than tokenizers spacy has a lot of other features.\n",
    "\n",
    "POS tagging, named entity recognition, dependency parsing, word to vector transformations, etc.\n",
    "\n",
    "* Note how spacy is able to identify the parts of speech and the dependency relations between the words in the sentence.\n",
    "* It goes beyond tokenization and provides a lot of useful information about the sentence."
   ]
  },
  {
   "cell_type": "code",
   "execution_count": 2,
   "metadata": {
    "id": "d5WJeOmJi7Tu"
   },
   "outputs": [
    {
     "name": "stdout",
     "output_type": "stream",
     "text": [
      "/home/VD/kaveri/anaconda3/envs/comp_ling2/lib/python3.8/site-packages/torch/cuda/__init__.py:138: UserWarning: CUDA initialization: The NVIDIA driver on your system is too old (found version 10020). Please update your GPU driver by downloading and installing a new version from the URL: http://www.nvidia.com/Download/index.aspx Alternatively, go to: https://pytorch.org to install a PyTorch version that has been compiled with your version of the CUDA driver. (Triggered internally at ../c10/cuda/CUDAFunctions.cpp:108.)\n",
      "  return torch._C._cuda_getDeviceCount() > 0\n",
      "\u001b[38;5;3m⚠ As of spaCy v3.0, shortcuts like 'en' are deprecated. Please use the\n",
      "full pipeline package name 'en_core_web_sm' instead.\u001b[0m\n",
      "Collecting en-core-web-sm==3.7.0\n",
      "  Downloading https://github.com/explosion/spacy-models/releases/download/en_core_web_sm-3.7.0/en_core_web_sm-3.7.0-py3-none-any.whl (12.8 MB)\n",
      "\u001b[2K     \u001b[90m━━━━━━━━━━━━━━━━━━━━━━━━━━━━━━━━━━━━━━━━\u001b[0m \u001b[32m12.8/12.8 MB\u001b[0m \u001b[31m34.1 MB/s\u001b[0m eta \u001b[36m0:00:00\u001b[0m00:01\u001b[0m00:01\u001b[0m\n",
      "\u001b[?25hRequirement already satisfied: spacy<3.8.0,>=3.7.0 in /home/VD/kaveri/anaconda3/envs/comp_ling2/lib/python3.8/site-packages (from en-core-web-sm==3.7.0) (3.7.2)\n",
      "Requirement already satisfied: spacy-legacy<3.1.0,>=3.0.11 in /home/VD/kaveri/anaconda3/envs/comp_ling2/lib/python3.8/site-packages (from spacy<3.8.0,>=3.7.0->en-core-web-sm==3.7.0) (3.0.12)\n",
      "Requirement already satisfied: spacy-loggers<2.0.0,>=1.0.0 in /home/VD/kaveri/anaconda3/envs/comp_ling2/lib/python3.8/site-packages (from spacy<3.8.0,>=3.7.0->en-core-web-sm==3.7.0) (1.0.5)\n",
      "Requirement already satisfied: murmurhash<1.1.0,>=0.28.0 in /home/VD/kaveri/anaconda3/envs/comp_ling2/lib/python3.8/site-packages (from spacy<3.8.0,>=3.7.0->en-core-web-sm==3.7.0) (1.0.10)\n",
      "Requirement already satisfied: cymem<2.1.0,>=2.0.2 in /home/VD/kaveri/anaconda3/envs/comp_ling2/lib/python3.8/site-packages (from spacy<3.8.0,>=3.7.0->en-core-web-sm==3.7.0) (2.0.8)\n",
      "Requirement already satisfied: preshed<3.1.0,>=3.0.2 in /home/VD/kaveri/anaconda3/envs/comp_ling2/lib/python3.8/site-packages (from spacy<3.8.0,>=3.7.0->en-core-web-sm==3.7.0) (3.0.9)\n",
      "Requirement already satisfied: thinc<8.3.0,>=8.1.8 in /home/VD/kaveri/anaconda3/envs/comp_ling2/lib/python3.8/site-packages (from spacy<3.8.0,>=3.7.0->en-core-web-sm==3.7.0) (8.2.1)\n",
      "Requirement already satisfied: wasabi<1.2.0,>=0.9.1 in /home/VD/kaveri/anaconda3/envs/comp_ling2/lib/python3.8/site-packages (from spacy<3.8.0,>=3.7.0->en-core-web-sm==3.7.0) (1.1.2)\n",
      "Requirement already satisfied: srsly<3.0.0,>=2.4.3 in /home/VD/kaveri/anaconda3/envs/comp_ling2/lib/python3.8/site-packages (from spacy<3.8.0,>=3.7.0->en-core-web-sm==3.7.0) (2.4.8)\n",
      "Requirement already satisfied: catalogue<2.1.0,>=2.0.6 in /home/VD/kaveri/anaconda3/envs/comp_ling2/lib/python3.8/site-packages (from spacy<3.8.0,>=3.7.0->en-core-web-sm==3.7.0) (2.0.10)\n",
      "Requirement already satisfied: weasel<0.4.0,>=0.1.0 in /home/VD/kaveri/anaconda3/envs/comp_ling2/lib/python3.8/site-packages (from spacy<3.8.0,>=3.7.0->en-core-web-sm==3.7.0) (0.3.4)\n",
      "Requirement already satisfied: typer<0.10.0,>=0.3.0 in /home/VD/kaveri/anaconda3/envs/comp_ling2/lib/python3.8/site-packages (from spacy<3.8.0,>=3.7.0->en-core-web-sm==3.7.0) (0.9.0)\n",
      "Requirement already satisfied: smart-open<7.0.0,>=5.2.1 in /home/VD/kaveri/anaconda3/envs/comp_ling2/lib/python3.8/site-packages (from spacy<3.8.0,>=3.7.0->en-core-web-sm==3.7.0) (6.4.0)\n",
      "Requirement already satisfied: tqdm<5.0.0,>=4.38.0 in /home/VD/kaveri/anaconda3/envs/comp_ling2/lib/python3.8/site-packages (from spacy<3.8.0,>=3.7.0->en-core-web-sm==3.7.0) (4.66.1)\n",
      "Requirement already satisfied: requests<3.0.0,>=2.13.0 in /home/VD/kaveri/anaconda3/envs/comp_ling2/lib/python3.8/site-packages (from spacy<3.8.0,>=3.7.0->en-core-web-sm==3.7.0) (2.31.0)\n",
      "Requirement already satisfied: pydantic!=1.8,!=1.8.1,<3.0.0,>=1.7.4 in /home/VD/kaveri/anaconda3/envs/comp_ling2/lib/python3.8/site-packages (from spacy<3.8.0,>=3.7.0->en-core-web-sm==3.7.0) (2.4.2)\n",
      "Requirement already satisfied: jinja2 in /home/VD/kaveri/anaconda3/envs/comp_ling2/lib/python3.8/site-packages (from spacy<3.8.0,>=3.7.0->en-core-web-sm==3.7.0) (3.1.2)\n",
      "Requirement already satisfied: setuptools in /home/VD/kaveri/anaconda3/envs/comp_ling2/lib/python3.8/site-packages (from spacy<3.8.0,>=3.7.0->en-core-web-sm==3.7.0) (68.0.0)\n",
      "Requirement already satisfied: packaging>=20.0 in /home/VD/kaveri/anaconda3/envs/comp_ling2/lib/python3.8/site-packages (from spacy<3.8.0,>=3.7.0->en-core-web-sm==3.7.0) (23.2)\n",
      "Requirement already satisfied: langcodes<4.0.0,>=3.2.0 in /home/VD/kaveri/anaconda3/envs/comp_ling2/lib/python3.8/site-packages (from spacy<3.8.0,>=3.7.0->en-core-web-sm==3.7.0) (3.3.0)\n",
      "Requirement already satisfied: numpy>=1.15.0 in /home/VD/kaveri/anaconda3/envs/comp_ling2/lib/python3.8/site-packages (from spacy<3.8.0,>=3.7.0->en-core-web-sm==3.7.0) (1.24.4)\n",
      "Requirement already satisfied: annotated-types>=0.4.0 in /home/VD/kaveri/anaconda3/envs/comp_ling2/lib/python3.8/site-packages (from pydantic!=1.8,!=1.8.1,<3.0.0,>=1.7.4->spacy<3.8.0,>=3.7.0->en-core-web-sm==3.7.0) (0.6.0)\n",
      "Requirement already satisfied: pydantic-core==2.10.1 in /home/VD/kaveri/anaconda3/envs/comp_ling2/lib/python3.8/site-packages (from pydantic!=1.8,!=1.8.1,<3.0.0,>=1.7.4->spacy<3.8.0,>=3.7.0->en-core-web-sm==3.7.0) (2.10.1)\n",
      "Requirement already satisfied: typing-extensions>=4.6.1 in /home/VD/kaveri/anaconda3/envs/comp_ling2/lib/python3.8/site-packages (from pydantic!=1.8,!=1.8.1,<3.0.0,>=1.7.4->spacy<3.8.0,>=3.7.0->en-core-web-sm==3.7.0) (4.8.0)\n",
      "Requirement already satisfied: charset-normalizer<4,>=2 in /home/VD/kaveri/anaconda3/envs/comp_ling2/lib/python3.8/site-packages (from requests<3.0.0,>=2.13.0->spacy<3.8.0,>=3.7.0->en-core-web-sm==3.7.0) (3.3.2)\n",
      "Requirement already satisfied: idna<4,>=2.5 in /home/VD/kaveri/anaconda3/envs/comp_ling2/lib/python3.8/site-packages (from requests<3.0.0,>=2.13.0->spacy<3.8.0,>=3.7.0->en-core-web-sm==3.7.0) (3.4)\n",
      "Requirement already satisfied: urllib3<3,>=1.21.1 in /home/VD/kaveri/anaconda3/envs/comp_ling2/lib/python3.8/site-packages (from requests<3.0.0,>=2.13.0->spacy<3.8.0,>=3.7.0->en-core-web-sm==3.7.0) (2.0.7)\n",
      "Requirement already satisfied: certifi>=2017.4.17 in /home/VD/kaveri/anaconda3/envs/comp_ling2/lib/python3.8/site-packages (from requests<3.0.0,>=2.13.0->spacy<3.8.0,>=3.7.0->en-core-web-sm==3.7.0) (2023.7.22)\n",
      "Requirement already satisfied: blis<0.8.0,>=0.7.8 in /home/VD/kaveri/anaconda3/envs/comp_ling2/lib/python3.8/site-packages (from thinc<8.3.0,>=8.1.8->spacy<3.8.0,>=3.7.0->en-core-web-sm==3.7.0) (0.7.11)\n",
      "Requirement already satisfied: confection<1.0.0,>=0.0.1 in /home/VD/kaveri/anaconda3/envs/comp_ling2/lib/python3.8/site-packages (from thinc<8.3.0,>=8.1.8->spacy<3.8.0,>=3.7.0->en-core-web-sm==3.7.0) (0.1.3)\n",
      "Requirement already satisfied: click<9.0.0,>=7.1.1 in /home/VD/kaveri/anaconda3/envs/comp_ling2/lib/python3.8/site-packages (from typer<0.10.0,>=0.3.0->spacy<3.8.0,>=3.7.0->en-core-web-sm==3.7.0) (8.1.7)\n",
      "Requirement already satisfied: cloudpathlib<0.17.0,>=0.7.0 in /home/VD/kaveri/anaconda3/envs/comp_ling2/lib/python3.8/site-packages (from weasel<0.4.0,>=0.1.0->spacy<3.8.0,>=3.7.0->en-core-web-sm==3.7.0) (0.16.0)\n",
      "Requirement already satisfied: MarkupSafe>=2.0 in /home/VD/kaveri/anaconda3/envs/comp_ling2/lib/python3.8/site-packages (from jinja2->spacy<3.8.0,>=3.7.0->en-core-web-sm==3.7.0) (2.1.3)\n",
      "Installing collected packages: en-core-web-sm\n",
      "Successfully installed en-core-web-sm-3.7.0\n",
      "\u001b[33mWARNING: Running pip as the 'root' user can result in broken permissions and conflicting behaviour with the system package manager. It is recommended to use a virtual environment instead: https://pip.pypa.io/warnings/venv\u001b[0m\u001b[33m\n",
      "\u001b[0m\u001b[38;5;2m✔ Download and installation successful\u001b[0m\n",
      "You can now load the package via spacy.load('en_core_web_sm')\n",
      "Apple PROPN nsubj\n",
      "is AUX aux\n",
      "looking VERB ROOT\n",
      "at ADP prep\n",
      "buying VERB pcomp\n",
      "U.K. PROPN dobj\n",
      "startup NOUN dep\n",
      "for ADP prep\n",
      "$ SYM quantmod\n",
      "1 NUM compound\n",
      "billion NUM pobj\n"
     ]
    }
   ],
   "source": [
    "import spacy # we load spacy to perform NLP tasks\n",
    "!python -m spacy download en # we download the english model for spacy\n",
    "\n",
    "nlp = spacy.load('en_core_web_sm')\n",
    "\n",
    "doc = nlp(u'Apple is looking at buying U.K. startup for $1 billion')\n",
    "\n",
    "for token in doc:\n",
    "    print(token.text, token.pos_, token.dep_)"
   ]
  },
  {
   "cell_type": "markdown",
   "metadata": {
    "id": "ppiAc0ZIi7Tu"
   },
   "source": [
    "# Word normalization\n"
   ]
  },
  {
   "cell_type": "markdown",
   "metadata": {
    "id": "rTZDG7w_i7Tv"
   },
   "source": [
    "## Question 2: Contraction for linguists\n",
    "\n",
    "How would you handle the following words -\n",
    "1. don't (don t or do not)\n",
    "2. U.S.A.\n",
    "3. Mr. Ross, Dr. Dre, Lil' Wayne\n",
    "\n",
    "<font color=\"red\">\n",
    "Add your answer to the markdown cell below\n",
    "</font>"
   ]
  },
  {
   "cell_type": "markdown",
   "metadata": {
    "id": "EdkMl3ALi7Tv"
   },
   "source": [
    "# Answer 2:\n",
    "\n",
    "There are many different ways of handling contractions like don't, can't, etc.\n",
    "1. don't -> do n't\n",
    "2. don't -> do not\n",
    "3. don't -> dont\n",
    "\n",
    "The first method is the most common because it preserves the meaning of the word.\n",
    "The second method does not preserve the information that the word was a contraction.\n",
    "The third method is not a good idea because it is not a real word.\n",
    "\n",
    "\n",
    "There are many different ways of handling abbreviations like U.S.A.\n",
    "1. U.S.A. -> U.S.A.\n",
    "2. U.S.A. -> USA\n",
    "3. U.S.A. -> U S A\n",
    "\n",
    "The first method is the most common because it preserves the meaning of the word.\n",
    "The second method does not preserve the information that the word was an abbreviation. But it is still valid.\n",
    "The third method is not a good idea because it treats each letter as a separate word.\n",
    "\n",
    "There are many different ways of handling initals like Mr., Mrs., Dr., Lil' Wayne, etc.\n",
    "1. Mr./Dr./Lil' -> Mr/Dr/Lil'\n",
    "2. Mr./Dr./Lil' -> Mr/Dr/Lil\n",
    "3. Mr./Dr./Lil' -> Mister/Doctor/Little\n",
    "\n",
    "The first method is the most common because it preserves the meaning of the word.\n",
    "The second method does not preserve the information that the word was an initial.\n",
    "The third method expands the contraction and is also valid."
   ]
  },
  {
   "cell_type": "code",
   "execution_count": 10,
   "metadata": {
    "id": "UXQEVtO4i7Tv",
    "outputId": "c6a81b53-33e2-44f3-e402-a7880a987022"
   },
   "outputs": [
    {
     "name": "stdout",
     "output_type": "stream",
     "text": [
      "['Do', \"n't\", 'you', 'think', 'this', 'is', 'tricky', 'to', 'tokenize', '?', 'Look', 'at', 'U.S.A.', ',', 'USA', '.', 'Consider', 'two', 'Ph.D.s', 'in', 'NLP', '.', 'Dr.', 'Ross', 'likes', 'to', 'listen', 'to', 'Lil', \"'\", 'Wayne', \"'s\", 'music', '.', 'She', 'and', 'Mrs.', 'Smith', 'both', 'like', 'to', 'listen', 'to', 'his', 'music', '.', 'Although', ',', 'they', 'also', 'like', 'indie-rock', '.', 'Is', \"n't\", 'that', 'interesting', '!', '!', '!', '!', ':', ')']\n"
     ]
    }
   ],
   "source": [
    "# The NLTK word tokenizer handles contractions as well.\n",
    "import nltk\n",
    "\n",
    "sentences = \"Don't you think this is tricky to tokenize? Look at U.S.A. , USA. Consider two Ph.D.s in NLP. Dr. Ross likes to listen to Lil' Wayne's music. She and Mrs. Smith both like to listen to his music. Although, they also like indie-rock. Isn't that interesting!!!! :)\"\n",
    "\n",
    "nltk_sentence = nltk.word_tokenize(sentences)\n",
    "print(nltk_sentence)"
   ]
  },
  {
   "cell_type": "code",
   "execution_count": null,
   "metadata": {},
   "outputs": [],
   "source": [
    "# Let's install the contractions package and see how it handles contractions.\n",
    "!pip install contractions"
   ]
  },
  {
   "cell_type": "code",
   "execution_count": 11,
   "metadata": {
    "id": "MgtahTDGi7Tv",
    "outputId": "1f2bb1cd-e904-457d-dd30-c1ac06305706"
   },
   "outputs": [
    {
     "name": "stdout",
     "output_type": "stream",
     "text": [
      "['Do', 'not', 'you', 'think', 'this', 'is', 'tricky', 'to', 'tokenize?', 'Look', 'at', 'YOU.S.A.', ',', 'USA.', 'Consider', 'two', 'Ph.D.s', 'in', 'NLP.', 'Dr.', 'Ross', 'likes', 'to', 'listen', 'to', \"Lil'\", \"Wayne's\", 'music.', 'She', 'and', 'Mrs.', 'Smith', 'both', 'like', 'to', 'listen', 'to', 'his', 'music.', 'Although,', 'they', 'also', 'like', 'indie-rock.', 'Is', 'not', 'that', 'interesting!!!!', ':)']\n"
     ]
    }
   ],
   "source": [
    "# For comparison, let's use the python contractions library to replace contractions in the text.\n",
    "import contractions\n",
    "\n",
    "def replace_contractions(text):\n",
    "    \"\"\"Replace contractions in string of text\"\"\"\n",
    "    return contractions.fix(text)\n",
    "\n",
    "contractions_sentence = replace_contractions(sentences)\n",
    "print(contractions_sentence.split())"
   ]
  },
  {
   "cell_type": "markdown",
   "metadata": {
    "id": "F40xPjuei7Tv"
   },
   "source": [
    "# Question 3: Contractions by libraries\n",
    "\n",
    "Now compare your answer with the nltk tokenizer and the contractions library.\n",
    "Which library is able to handle the use case correctly?\n",
    "\n",
    "<font color=\"yellow\">\n",
    "Add your answer to the markdown cell below\n",
    "</font>"
   ]
  },
  {
   "cell_type": "code",
   "execution_count": null,
   "metadata": {
    "id": "HbE0jCw5i7Tv"
   },
   "outputs": [],
   "source": [
    "# Answer 3:"
   ]
  },
  {
   "cell_type": "markdown",
   "metadata": {},
   "source": [
    "# Question 4: URLs (Demo)\n",
    "\n",
    "This is a simple demostration of how to use regex to remove urls from text. Run the cell below. \n",
    "\n",
    "Observe the output and the regex pattern specified to remove the url."
   ]
  },
  {
   "cell_type": "code",
   "execution_count": 13,
   "metadata": {},
   "outputs": [
    {
     "name": "stdout",
     "output_type": "stream",
     "text": [
      "Simple text remove urls:\n",
      "This is a tweet with a url -  \n",
      "\n",
      "Harder text remove urls:\n",
      "This is a tweet with a url:  and another url - https://\n"
     ]
    }
   ],
   "source": [
    "#Answer 4\n",
    "import re\n",
    "\n",
    "def simple_remove_urls(text):\n",
    "    pattern = r'www\\S+' #this pattern will match any string that starts with www and ends with a non-whitespace character. \\S matches any non-whitespace character. \\S+ matches one or more non-whitespace characters.\n",
    "    substitution = ''\n",
    "    result = re.sub(pattern, substitution, text) #regex pattern to remove urls\n",
    "    return result\n",
    "\n",
    "\n",
    "text = \"This is a tweet with a url -  www.google.com\"\n",
    "print(\"Simple text remove urls:\")\n",
    "print(simple_remove_urls(text))\n",
    "print()\n",
    "\n",
    "\n",
    "harder_text = \"This is a tweet with a url: www.google.com and another url - https://www.python.org/\"\n",
    "print(\"Harder text remove urls:\")\n",
    "print(simple_remove_urls(harder_text))"
   ]
  },
  {
   "cell_type": "markdown",
   "metadata": {
    "id": "IKXE4vhSi7Tv"
   },
   "source": [
    "## Question 5: URLs\n",
    "\n",
    "URLs may not be necessary for the task at hand. We will learn to remove the URLs from the text with a regular expression."
   ]
  },
  {
   "cell_type": "markdown",
   "metadata": {},
   "source": [
    "Now that we can see that the pattern is too simple to generalize, let's try to make it more complex. \n",
    "\n",
    "We will try to remove the url from the text given in the cell below. \n",
    "\n",
    "\n",
    "1. <font color=\"red\">You have to write a pattern that will match the url in the text. </font>\n",
    "2. <font color=\"red\">Complete the pattern below and run the cell. </font>"
   ]
  },
  {
   "cell_type": "code",
   "execution_count": 14,
   "metadata": {},
   "outputs": [
    {
     "name": "stdout",
     "output_type": "stream",
     "text": [
      "This sentence is a wikipedia article  The article is about the programming language Python \n"
     ]
    }
   ],
   "source": [
    "# Answer 5:\n",
    "\n",
    "import re\n",
    "\n",
    "def remove_urls(tokens):\n",
    "    '''Removes all URLs from a list of tokens'''\n",
    "    \n",
    "    ################Enter Your Code Here################\n",
    "    ####################################################\n",
    "\n",
    "\n",
    "    substitution = ''\n",
    "    result = re.sub(pattern, substitution, text) #regex pattern to remove urls\n",
    "    return result\n",
    "\n",
    "text = \"This sentence is a wikipedia article https://en.wikipedia.org/wiki/Python_(programming_language). The article is about the programming language Python https://www.python.org/.\"\n",
    "print(remove_urls(text))"
   ]
  },
  {
   "cell_type": "markdown",
   "metadata": {
    "id": "h8kmo6Spi7Tw"
   },
   "source": [
    "## Question 6: Hashtags & Mentions (Demo)\n",
    "\n",
    "Hashtags are a common feature of social media posts. We will process the hashtag to remove the special \"#\" character.\n",
    "\n",
    "<font color=\"red\">\n",
    "Run the cell below to run the function `process_hashtag` on the tweet text. This removes the \"#\" character and returns the hashtag as a string.\n",
    "</font>\n",
    "\n",
    "It does not process mentions yet."
   ]
  },
  {
   "cell_type": "code",
   "execution_count": 15,
   "metadata": {
    "id": "ABbEbf6yi7Tw",
    "outputId": "38d7f77d-5ea4-4660-81c7-93282206f7ef"
   },
   "outputs": [
    {
     "name": "stdout",
     "output_type": "stream",
     "text": [
      "Tweet:  #HelloWorld\n",
      "Hashtags:  ['HelloWorld']\n",
      "Tweet without hashtags and mentions:  []\n",
      "\n",
      "Tweet:  Hello @World\n",
      "Hashtags:  []\n",
      "Tweet without hashtags and mentions:  ['Hello', '@World']\n",
      "\n",
      "Tweet:  Hello World\n",
      "Hashtags:  []\n",
      "Tweet without hashtags and mentions:  ['Hello', 'World']\n",
      "\n",
      "Tweet:  @YannLeCunn NLP will be a huge topic. #NLP #MachineLearning #A-I\n",
      "Hashtags:  ['NLP', 'MachineLearning', 'A-I']\n",
      "Tweet without hashtags and mentions:  ['@YannLeCunn', 'NLP', 'will', 'be', 'a', 'huge', 'topic.']\n",
      "\n"
     ]
    }
   ],
   "source": [
    "# Answer 6:\n",
    "\n",
    "def process_hashtags(tweet):\n",
    "    # 1. split the tweet into words. \"@YannLeCunn #NLP will be a huge #topic\" -> [\"@YannLeCunn\", \"#NLP\", \"will\", \"be\", \"a\", \"huge\", \"#topic\"]\n",
    "    tweet = tweet.split()\n",
    "\n",
    "    # 2. store the hashtags in a list and tweet without hashtags in a separate list\n",
    "    hashtags = []\n",
    "    tweet_without_hashtags = []\n",
    "\n",
    "    # loop over the words in the tweet\n",
    "    for word in tweet:\n",
    "        if word[0] == '#': # if the word is a hashtag\n",
    "            hashtags.append(word[1:])  # append the word to the list of hashtags. word[1:] removes the # from the word\n",
    "        else: # if the word is not a hashtag\n",
    "            tweet_without_hashtags.append(word) # append the word to the list of words without hashtags\n",
    "\n",
    "\n",
    "    # 3. store the mentions in a list \n",
    "    mentions = [] #not implemented yet\n",
    "    \n",
    "    # 4. return the hashtags, mentions and tweet without hashtags and mentions\n",
    "    return hashtags, mentions, tweet_without_hashtags\n",
    "    \n",
    "tweets = [\"#HelloWorld\", \"Hello @World\", \"Hello World\", \"@YannLeCunn NLP will be a huge topic. #NLP #MachineLearning #A-I\"]\n",
    "\n",
    "for tweet in tweets:\n",
    "    print(\"Tweet: \", tweet)\n",
    "    hashtags, mentions, tweet_without_mentions_and_hashtags = process_hashtags(tweet)\n",
    "    print(\"Hashtags: \", hashtags)\n",
    "    print(\"Tweet without hashtags and mentions: \", tweet_without_mentions_and_hashtags)\n",
    "    print()"
   ]
  },
  {
   "cell_type": "markdown",
   "metadata": {},
   "source": [
    "## Question 7: Hashtags & Mentions\n",
    "\n",
    "The function ```process_hashtags_and_mentions()``` is a tweet reader. It reads the tweets, extracts the hashtags and mentions and also removes them from the tweet's text.\n",
    "\n",
    "1. <font color=\"red\"> Run the cell and see how the hashtags are extracted are removed the tweet text. </font>\n",
    "2. <font color=\"red\"> Now complete the code to also remove the mentions  (that start with ```@```). Add your answer to the markdown cell's function: ```process_hashtags_and_mentions(tweet)``` </font>\n",
    "3. <font color=\"red\"> Rerun the cell and check the output. It should look like: </font>\n",
    "\n",
    "```\n",
    "Tweet:  #HelloWorld\n",
    "Hashtags:  ['HelloWorld']\n",
    "Mentions:  []\n",
    "Tweet without hashtags and mentions:  \n",
    "\n",
    "Tweet:  Hello @World\n",
    "Hashtags:  []\n",
    "Mentions:  ['World']\n",
    "Tweet without hashtags and mentions:  Hello\n",
    "\n",
    "Tweet:  Hello World\n",
    "Hashtags:  []\n",
    "Mentions:  []\n",
    "Tweet without hashtags and mentions:  Hello World\n",
    "\n",
    "Tweet:  @YannLeCunn NLP will be a huge topic. #NLP #MachineLearning #A-I\n",
    "Hashtags:  ['NLP', 'MachineLearning', 'A-I']\n",
    "Mentions:  ['YannLeCunn']\n",
    "Tweet without hashtags and mentions:  NLP will be a huge topic.\n",
    "```"
   ]
  },
  {
   "cell_type": "code",
   "execution_count": 16,
   "metadata": {},
   "outputs": [
    {
     "name": "stdout",
     "output_type": "stream",
     "text": [
      "Tweet:  #HelloWorld\n",
      "Hashtags:  ['HelloWorld']\n",
      "Mentions:  []\n",
      "Tweet without hashtags and mentions:  \n",
      "\n",
      "Tweet:  Hello @World\n",
      "Hashtags:  []\n",
      "Mentions:  ['World']\n",
      "Tweet without hashtags and mentions:  Hello\n",
      "\n",
      "Tweet:  Hello World\n",
      "Hashtags:  []\n",
      "Mentions:  []\n",
      "Tweet without hashtags and mentions:  Hello World\n",
      "\n",
      "Tweet:  @YannLeCunn NLP will be a huge topic. #NLP #MachineLearning #A-I\n",
      "Hashtags:  ['NLP', 'MachineLearning', 'A-I']\n",
      "Mentions:  ['YannLeCunn']\n",
      "Tweet without hashtags and mentions:  NLP will be a huge topic.\n",
      "\n"
     ]
    }
   ],
   "source": [
    "# Answer 7:\n",
    "def process_hashtags_and_mentions(tweet):\n",
    "    # 1. store the hashtags in a list and tweet without hashtags in a separate list\n",
    "    hashtags, mentions, tweet_without_hashtags = process_hashtags(tweet)\n",
    "\n",
    "    # 2. store the mentions in a list and tweet without mentions in a separate list\n",
    "    mentions = []\n",
    "    tweet_without_mentions = []\n",
    "\n",
    "    # loop over the words in the list tweet_without_hashtags and store mentions in \"\"\"mentions\"\"\" and words without mentions in \"\"\"tweet_without_mentions\"\"\"\n",
    "\n",
    "    # HOW-TO: use a similar loop as above to loop over the \"\"\"tweet_without_hashtags\"\"\"\n",
    "    # if the word is a mention, append the word to \"\"\"mentions\"\"\"\n",
    "    # if the word is not a mention, append the word to \"\"\"tweet_without_mentions\"\"\"\n",
    "\n",
    "    #####################Enter your code below ##################\n",
    "\n",
    "    \n",
    "    #############################################################\n",
    "\n",
    "    # 3. return the hashtags, mentions and tweet without hashtags and mentions\n",
    "    tweet_without_mentions = \" \".join(tweet_without_mentions) # join the words in the list tweet_without_mentions to form a string\n",
    "\n",
    "    # 4. return the hastags, mentions and tweet\n",
    "    return hashtags, mentions, tweet_without_mentions\n",
    "\n",
    "tweets = [\"#HelloWorld\", \"Hello @World\", \"Hello World\", \"@YannLeCunn NLP will be a huge topic. #NLP #MachineLearning #A-I\"]\n",
    "\n",
    "for tweet in tweets:\n",
    "    print(\"Tweet: \", tweet)\n",
    "    hashtags, mentions, tweet_without_mentions_and_hashtags = process_hashtags_and_mentions(tweet)\n",
    "    print(\"Hashtags: \", hashtags)\n",
    "    print(\"Mentions: \", mentions)\n",
    "    print(\"Tweet without hashtags and mentions: \", tweet_without_mentions_and_hashtags)\n",
    "    print()"
   ]
  },
  {
   "cell_type": "markdown",
   "metadata": {
    "id": "paZxkyGyi7Tw"
   },
   "source": [
    "## Question 8: Tokenization\n",
    "\n",
    "Use the NLTK word tokenizer to tokenize to tokenize the sentence.\n",
    "\n",
    "The input is a string and the output should be a list of strings.\n",
    "\n",
    "Refer to the section \"Word Tokenizer\" covered above for the answer.\n",
    "\n",
    "<font color=\"red\">\n",
    "Example: </br>\n",
    "INPUT STRING: \"Don't you think this is tricky to tokenize?\" </br>\n",
    "OUTPUT LIST: ['Do', \"n't\", 'you', 'think', 'this', 'is', 'tricky', 'to', 'tokenize', '?'] </br>\n",
    "</font>"
   ]
  },
  {
   "cell_type": "code",
   "execution_count": 17,
   "metadata": {
    "id": "MG2SSWQZi7Tw",
    "outputId": "322e5703-1713-4225-af6b-6552de4b8b15"
   },
   "outputs": [
    {
     "name": "stdout",
     "output_type": "stream",
     "text": [
      "['Do', \"n't\", 'you', 'think', 'this', 'is', 'tricky', 'to', 'tokenize', '?', 'Look', 'at', 'U.S.A.', ',', 'USA', '.', 'Consider', 'two', 'Ph.D.s', 'in', 'NLP', '.', 'Dr.', 'Ross', 'likes', 'to', 'listen', 'to', 'Lil', \"'\", 'Wayne', \"'s\", 'music', '.', 'She', 'and', 'Mrs.', 'Smith', 'both', 'like', 'to', 'listen', 'to', 'his', 'music', '.', 'Although', ',', 'they', 'also', 'like', 'indie-rock', '.', 'Is', \"n't\", 'that', 'interesting', '!', '!', '!', '!', ':', ')']\n"
     ]
    }
   ],
   "source": [
    "# Answer 8:\n",
    "\n",
    "from nltk import word_tokenize\n",
    "\n",
    "def tokenize(text):\n",
    "\n",
    "    ###################Enter Your Code Here ###################\n",
    "\n",
    "\n",
    "    ##########################################################\n",
    "    return result\n",
    "\n",
    "sentences = \"Don't you think this is tricky to tokenize? Look at U.S.A., USA. Consider two Ph.D.s in NLP. Dr. Ross likes to listen to Lil' Wayne's music. She and Mrs. Smith both like to listen to his music. Although, they also like indie-rock. Isn't that interesting!!!! :)\"\n",
    "\n",
    "tokens = tokenize(sentences)\n",
    "print(tokens)"
   ]
  },
  {
   "cell_type": "markdown",
   "metadata": {
    "id": "9KWZedJAi7Tw"
   },
   "source": [
    "## Lowercasing\n",
    "\n",
    "Lowercasing is a common preprocessing step. It is used to reduce the vocabulary size because it treats words like \"the\" and \"The\" as the same word.\n",
    "\n",
    "The cell below shows how to lowercase a string. The `lower()` function is used to lowercase a string.\n",
    "\n",
    "Note how we loop through the list of words and lowercase each word.\n",
    "\n",
    "In answer 6, we have just tokenized the sentence. As a ressult, the input which was a ***string*** (\"Don't you think this is tricky to tokenize?\") is now a ***list of strings*** (['Do', \"n't\", 'you', 'think', 'this', 'is', 'tricky', 'to', 'tokenize', '?']). \n",
    "\n",
    "So we need to loop through the list and lowercase each word."
   ]
  },
  {
   "cell_type": "code",
   "execution_count": 18,
   "metadata": {
    "id": "f9qrW9bPi7Tw",
    "outputId": "77f06447-16ce-46c2-aa66-c8ed75a33149"
   },
   "outputs": [
    {
     "name": "stdout",
     "output_type": "stream",
     "text": [
      "['do', \"n't\", 'you', 'think', 'this', 'is', 'tricky', 'to', 'tokenize', '?', 'look', 'at', 'u.s.a.', ',', 'usa', '.', 'consider', 'two', 'ph.d.s', 'in', 'nlp', '.', 'dr.', 'ross', 'likes', 'to', 'listen', 'to', 'lil', \"'\", 'wayne', \"'s\", 'music', '.', 'she', 'and', 'mrs.', 'smith', 'both', 'like', 'to', 'listen', 'to', 'his', 'music', '.', 'although', ',', 'they', 'also', 'like', 'indie-rock', '.', 'is', \"n't\", 'that', 'interesting', '!', '!', '!', '!', ':', ')']\n"
     ]
    }
   ],
   "source": [
    "lower_tokens = [t.lower() for t in tokens] #this is a list comprehension. It is a way to iterate over a list and apply a function to each element of the list. In this case, we are applying the lower() function to each element of the tokens list.\n",
    "print(lower_tokens)"
   ]
  },
  {
   "cell_type": "markdown",
   "metadata": {
    "id": "8mCoeVQ0i7Tw"
   },
   "source": [
    "## Question 9: Punctuation\n",
    "\n",
    "Write a regex to remove punctuations from the text.\n",
    "\n",
    "<font color=\"red\">\n",
    "Add your answer to the markdown cell's function: ```remove_punctuations(text)```\n",
    "</font>"
   ]
  },
  {
   "cell_type": "code",
   "execution_count": 19,
   "metadata": {
    "id": "TCGs5Jk3i7Tw",
    "outputId": "6026fcd2-8b03-4161-a039-2407dc82dfa9"
   },
   "outputs": [
    {
     "name": "stdout",
     "output_type": "stream",
     "text": [
      "['do', \"n't\", 'you', 'think', 'this', 'is', 'tricky', 'to', 'tokenize', 'look', 'at', 'u.s.a.', 'usa', 'consider', 'two', 'ph.d.s', 'in', 'nlp', 'dr.', 'ross', 'likes', 'to', 'listen', 'to', 'lil', 'wayne', 'music', 'she', 'and', 'mrs.', 'smith', 'both', 'like', 'to', 'listen', 'to', 'his', 'music', 'although', 'they', 'also', 'like', 'indie-rock', 'is', \"n't\", 'that', 'interesting']\n"
     ]
    }
   ],
   "source": [
    "#Answer 9:\n",
    "import re\n",
    "\n",
    "def remove_punctuations(tokens):\n",
    "    \"\"\"Remove punctuations from a list of tokens\"\"\"\n",
    "\n",
    "    ###################Insert your code here###################\n",
    "\n",
    "\n",
    "    #############################################################\n",
    "\n",
    "    filtered_tokens = []\n",
    "    for token in tokens:\n",
    "        if pattern.match(token):\n",
    "            filtered_tokens.append(token)\n",
    "    return filtered_tokens\n",
    "\n",
    "words = remove_punctuations(lower_tokens)\n",
    "print(words)"
   ]
  },
  {
   "cell_type": "markdown",
   "metadata": {
    "id": "Sa7xZx9bi7Tw"
   },
   "source": [
    "# Stemming\n",
    "\n",
    "Stemming is the process of reducing a word to its stem form. For example, learning, learns, learned are all reduced to learn.\n",
    "\n",
    "For instance, the stem of these three words, connections, connected, connects, is “connect”. On the other hand, the root of trouble, troubled, and troubles is “troubl,” which is not a recognized word.\n",
    "\n",
    "This helps in reducing the size of our vocabulary. NLTK has a built-in stemmer called PorterStemmer. Let's use it to stem the words in our sample text.\n",
    "\n",
    "<font color=\"red\"> Run the cell below to observe how the stems processes the words</font>"
   ]
  },
  {
   "cell_type": "markdown",
   "metadata": {
    "id": "eqqV9MdLi7Tw"
   },
   "source": [
    "#### Porter Stemmer"
   ]
  },
  {
   "cell_type": "code",
   "execution_count": 20,
   "metadata": {
    "id": "UcbU41p0i7Tx",
    "outputId": "2eab8204-7665-4caa-ad5a-e93aa2449010"
   },
   "outputs": [
    {
     "name": "stdout",
     "output_type": "stream",
     "text": [
      "['do', \"n't\", 'you', 'think', 'thi', 'is', 'tricki', 'to', 'token', 'look', 'at', 'u.s.a.', 'usa', 'consid', 'two', 'ph.d.', 'in', 'nlp', 'dr.', 'ross', 'like', 'to', 'listen', 'to', 'lil', 'wayn', 'music', 'she', 'and', 'mrs.', 'smith', 'both', 'like', 'to', 'listen', 'to', 'hi', 'music', 'although', 'they', 'also', 'like', 'indie-rock', 'is', \"n't\", 'that', 'interest']\n",
      "generous ---> gener\n",
      "generate ---> gener\n",
      "generously ---> gener\n",
      "generation ---> gener\n"
     ]
    }
   ],
   "source": [
    "# Let's use the porter stemmer to stem the words.\n",
    "\n",
    "from nltk.stem import PorterStemmer\n",
    "porter = PorterStemmer()\n",
    "\n",
    "stemmed = [porter.stem(word) for word in words]\n",
    "print(stemmed) #Note how the root for \"this\" is \"thi\" which is not a word. This is a limitation of the PorterStemmer.\n",
    "\n",
    "examples = ['generous','generate','generously','generation']\n",
    "for ex in examples:\n",
    "    print(ex,\"--->\",porter.stem(ex))"
   ]
  },
  {
   "cell_type": "markdown",
   "metadata": {
    "id": "C2uLS0qHi7Tx"
   },
   "source": [
    "#### Snowball Stemmer\n",
    "\n",
    "SnowballStemmer() is a module in NLTK that implements the Snowball stemming technique. It is somewhat faster and more logical than the original Porter Stemmer. Let us examine this form of stemming using an example."
   ]
  },
  {
   "cell_type": "code",
   "execution_count": 21,
   "metadata": {
    "id": "Q0yjmzu4i7Tx",
    "outputId": "f3b59b6e-b22c-4396-93df-0862fd5f58c9"
   },
   "outputs": [
    {
     "name": "stdout",
     "output_type": "stream",
     "text": [
      "['do', \"n't\", 'you', 'think', 'this', 'is', 'tricki', 'to', 'token', 'look', 'at', 'u.s.a.', 'usa', 'consid', 'two', 'ph.d.s', 'in', 'nlp', 'dr.', 'ross', 'like', 'to', 'listen', 'to', 'lil', 'wayn', 'music', 'she', 'and', 'mrs.', 'smith', 'both', 'like', 'to', 'listen', 'to', 'his', 'music', 'although', 'they', 'also', 'like', 'indie-rock', 'is', \"n't\", 'that', 'interest']\n",
      "generous ---> generous\n",
      "generate ---> generat\n",
      "generously ---> generous\n",
      "generation ---> generat\n"
     ]
    }
   ],
   "source": [
    "from nltk.stem import SnowballStemmer\n",
    "\n",
    "snowball = SnowballStemmer(language='english')\n",
    "\n",
    "stemmed = [snowball.stem(word) for word in words]\n",
    "print(stemmed) #Note how Snowball stemmer is better than PorterStemmer. The root for \"this\" is \"this\" which is a word.\n",
    "\n",
    "words = ['generous','generate','generously','generation']\n",
    "for word in words:\n",
    "    print(word,\"--->\",snowball.stem(word))"
   ]
  },
  {
   "cell_type": "markdown",
   "metadata": {
    "id": "JdtrfRrYi7Tx"
   },
   "source": [
    "# Stop word removal\n",
    "\n",
    "**Stop words** are words which are filtered out before or after processing of natural language data.\n",
    "\n",
    "Stop words usually refer to the <font color=\"blue\"> **most common words** </font> in a language. They include words like 'am', 'an', 'and', 'the', etc.\n",
    "Most search engines remove stop words to save space in their index of web pages."
   ]
  },
  {
   "cell_type": "code",
   "execution_count": 22,
   "metadata": {
    "id": "zJ2kpjypi7Tx",
    "outputId": "3bd77bd4-1197-48f5-baab-666d7aa6f0ad"
   },
   "outputs": [
    {
     "name": "stderr",
     "output_type": "stream",
     "text": [
      "[nltk_data] Downloading package stopwords to /root/nltk_data...\n",
      "[nltk_data]   Package stopwords is already up-to-date!\n"
     ]
    },
    {
     "data": {
      "text/plain": [
       "True"
      ]
     },
     "execution_count": 22,
     "metadata": {},
     "output_type": "execute_result"
    }
   ],
   "source": [
    "import nltk\n",
    "nltk.download('stopwords')"
   ]
  },
  {
   "cell_type": "markdown",
   "metadata": {
    "id": "94DYXfQfi7Tx"
   },
   "source": [
    "# Question 10: Stopwords (Bonus question)\n",
    "\n",
    "Write a function to remove stopwords from a sentence. Use the list given below.\n",
    "\n",
    "<font color=\"red\">\n",
    "Add your answer to the markdown cell's function: ```remove_stopwords_using_list(words)```\n",
    "</font>"
   ]
  },
  {
   "cell_type": "code",
   "execution_count": 23,
   "metadata": {
    "id": "pqJA9Ypzi7T1",
    "outputId": "20633314-56cf-40e5-de60-b06187bda6cf"
   },
   "outputs": [
    {
     "name": "stdout",
     "output_type": "stream",
     "text": [
      "['sample', 'sentence', ',', 'showing', 'off', 'stop', 'words', 'filtration', '.']\n"
     ]
    }
   ],
   "source": [
    "# Answer 10:\n",
    "\n",
    "import nltk\n",
    "\n",
    "# a stopword list\n",
    "\n",
    "STOPWORDS = \"the this and or is a an to in of for on are be was were will with that it its as at by from has \\\n",
    "            have he she they i you your my me mine his her him we us our am can could would should did do \\\n",
    "            does not no nor but so then what where when why how whom whose which\".split()\n",
    "\n",
    "def remove_stopwords_using_list(words):\n",
    "    \"\"\"Remove stopwords from a sample string using a list of stopwords\"\"\"\n",
    "    \n",
    "    #Loop through the words and append to result if not in STOPWORDS\n",
    "    result = []\n",
    "    ###################Insert your code here###################\n",
    "\n",
    "    \n",
    "    ##########################################################\n",
    "    return result\n",
    "\n",
    "text = \"this is a sample sentence, showing off the stop words filtration.\"\n",
    "text = nltk.word_tokenize(text)\n",
    "text = remove_stopwords_using_list(text)\n",
    "print(text)"
   ]
  },
  {
   "cell_type": "markdown",
   "metadata": {
    "id": "iFRtRUgq5Gw0"
   },
   "source": [
    "Now that you have implemented stopwords using your own list of stopwords we will use NLTK's stopwords list. \n",
    "\n",
    "<font color='red'>Run the cell below and observe the output. Compare the performance of your stopwords list with NLTK's stopwords list.</font>"
   ]
  },
  {
   "cell_type": "code",
   "execution_count": 24,
   "metadata": {
    "id": "2qfdbjZRi7T1",
    "outputId": "f960e60d-6e02-46e6-da96-0426954f41b3"
   },
   "outputs": [
    {
     "name": "stdout",
     "output_type": "stream",
     "text": [
      "['sample', 'sentence', ',', 'showing', 'stop', 'words', 'filtration', '.']\n"
     ]
    }
   ],
   "source": [
    "# Let's use the nltk stopwords to remove the stop words from the text.\n",
    "\n",
    "from nltk.corpus import stopwords\n",
    "stop_words = stopwords.words('english')\n",
    "\n",
    "def remove_stopwords(text):\n",
    "    \"\"\"Remove stopwords from a sample string\"\"\"\n",
    "    return [word for word in text if word not in stop_words]\n",
    "\n",
    "text = \"this is a sample sentence, showing off the stop words filtration.\"\n",
    "text = nltk.word_tokenize(text)\n",
    "text = remove_stopwords(text)\n",
    "print(text)\n",
    "\n",
    "#Note how the nltk is a more comprehensive list than a hand-crafted one"
   ]
  },
  {
   "cell_type": "markdown",
   "metadata": {
    "id": "IppjvPQRi7T1"
   },
   "source": [
    "# Bringing it together: Corpus\n",
    "\n",
    "We have implemented functions like ```replace_contractions```, ```remove_urls```, ```remove_stopwords```, etc. in the previous sections. We will now use these functions to clean a large corpus. \n",
    "\n",
    "<font color=\"red\"> Run the cell below to run all your functions and clean the text. </font>\n",
    "\n",
    "🚀.🚀.🚀. The output will be a list of cleaned text!!! Yay! 🚀.🚀.🚀.\n"
   ]
  },
  {
   "cell_type": "code",
   "execution_count": 25,
   "metadata": {
    "id": "Mwmi22lyi7T1",
    "outputId": "0fcdb2b2-3393-4cfe-af96-7211998e7eca"
   },
   "outputs": [
    {
     "name": "stdout",
     "output_type": "stream",
     "text": [
      "text: ['exerpt', 'hebrew', 'arab', 'still', 'consid', 'difficult', 'research', 'languag', 'stem', 'english', 'stemmer', 'fair', 'trivial', 'onli', 'occasion', 'problem', 'e.g', 'dri', 'third-person', 'singular', 'present', 'form', 'verb', 'dri', 'axe', 'plural', 'axe', 'well', 'axi', 'stemmer', 'becom', 'harder', 'design', 'morpholog', 'orthographi', 'charact', 'encod', 'etc', 'target', 'languag', 'becom', 'complex', 'exampl', 'italian', 'stemmer', 'complex', 'english', 'one', 'becaus', 'greater', 'number', 'verb', 'inflect', 'russian', 'one', 'complex', 'noun', 'declens', 'hebrew', 'one', 'even', 'complex', 'due', 'nonconcaten', 'morpholog', 'write', 'system', 'without', 'vowel', 'requir', 'prefix', 'strip', 'hebrew', 'stem', 'two', 'three', 'four', 'charact', \"n't\", 'think', 'stem', 'trivial', 'martin', 'f.', 'porter', 'inventor', 'porter', 'stemmer', '1', 'one', 'common', 'algorithm', 'stem', 'english', '2', '3', 'snowbal', 'program', 'framework', 'spaci']\n",
      "hashtags: ['stemming', 'porter', 'languages', 'morphology', 'orthography', 'character', 'encoding', 'italian', 'english', 'russian', 'hebrew', 'concatenative', 'writing', 'system', 'vowels', 'prefix', 'stripping', 'algorithm', 'programming', 'framework', 'spacy', 'python', 'library']\n",
      "mentions: ['spacy', 'nltk', 'stanfordnlp', 'tokenizers_daily', 'huggingface', 'uds']\n"
     ]
    }
   ],
   "source": [
    "# Combining all the steps above, let's write a function to clean the text.\n",
    "\n",
    "snowball = SnowballStemmer(language='english')\n",
    "\n",
    "def clean_text(text):\n",
    "    \"\"\"Make text lowercase, remove text in square brackets, remove punctuation and remove words containing numbers.\"\"\"\n",
    "    # replace contractions\n",
    "    text = replace_contractions(text)\n",
    "    # remove URLs\n",
    "    text = remove_urls(text)\n",
    "    # text = ''.join(text)\n",
    "    #handle hashtags and mentions\n",
    "    hashtags, mentions, text = process_hashtags_and_mentions(text)\n",
    "    # tokenize text\n",
    "    tokens = tokenize(text)\n",
    "    # lowercase text\n",
    "    tokens = [word.lower() for word in tokens]\n",
    "    # remove punctuations\n",
    "    tokens = remove_punctuations(tokens)\n",
    "    # stem words\n",
    "    stemmed = [snowball.stem(token) for token in tokens]\n",
    "    # remove stopwords\n",
    "    stemmed = remove_stopwords(stemmed)\n",
    "\n",
    "    return stemmed, hashtags, mentions\n",
    "\n",
    "# Let's test the function on a sample text.\n",
    "text = \"\"\"@spacy @nltk @stanfordnlp @tokenizers_daily @huggingface @uds\n",
    "\n",
    "This is a an exerpt from https://tokenizers_daily.com . Hebrew and Arabic are still considered difficult research languages for stemming.\n",
    "English stemmers are fairly trivial (with only occasional problems, e.g. \"dries\" being the third-person singular present form of the verb \"dry\", \"axes\" being the plural of \"axe\" as well as \"axis\");\n",
    "but stemmers become harder to design as the morphology, orthography, and character encoding, etc. of the target language becomes more complex.\n",
    "For example, an Italian stemmer is more complex than an English one (because of a greater number of verb inflections), a Russian one is more complex (more noun declensions),\n",
    "a Hebrew one is even more complex (due to nonconcatenative morphology, a writing system without vowels, and the requirement of prefix stripping: Hebrew stems can be two, three or four characters, but not more), and so on.\n",
    "Don't think that stemming is trivial.\n",
    "\n",
    "\n",
    "Martin F. Porter is the inventor of the Porter Stemmer,[1] one of the most common algorithms for stemming English,[2][3] and the Snowball programming framework.\n",
    "Spacy also offers stemmers across various languages. Version 1.0 was released on October 19, 2016 for this python library.\n",
    "\n",
    "#stemming #porter #languages #morphology #orthography #character #encoding #italian #english #russian #hebrew #concatenative #writing #system #vowels #prefix #stripping #algorithm #programming #framework #spacy #python #library\n",
    "\"\"\"\n",
    "\n",
    "text, hashtags, mentions = clean_text(text)\n",
    "print(\"text:\", text[:100]) # print only first 100 words. the corpus is too large.\n",
    "print(\"hashtags:\", hashtags)\n",
    "print(\"mentions:\", mentions)"
   ]
  },
  {
   "cell_type": "markdown",
   "metadata": {
    "id": "lPFL_i_Xi7T2"
   },
   "source": [
    "# Youtube Spam Comments Dataset ▶️"
   ]
  },
  {
   "cell_type": "markdown",
   "metadata": {
    "id": "nk1967P8i7T2"
   },
   "source": [
    "### Load the dataset\n",
    "\n",
    "The dataset is a csv file with 3 columns: `id`, `author`, `date`, `content` and `class`. The `content` column contains the text of the comment, and the `class` column tells whether the comment is a spam=1 or not a spam=0."
   ]
  },
  {
   "cell_type": "code",
   "execution_count": 1,
   "metadata": {
    "id": "6mV6HaAWi7T2",
    "outputId": "45874f91-6ccb-4aa8-b08b-6fbe889b1f80"
   },
   "outputs": [
    {
     "data": {
      "text/html": [
       "<div>\n",
       "<style scoped>\n",
       "    .dataframe tbody tr th:only-of-type {\n",
       "        vertical-align: middle;\n",
       "    }\n",
       "\n",
       "    .dataframe tbody tr th {\n",
       "        vertical-align: top;\n",
       "    }\n",
       "\n",
       "    .dataframe thead th {\n",
       "        text-align: right;\n",
       "    }\n",
       "</style>\n",
       "<table border=\"1\" class=\"dataframe\">\n",
       "  <thead>\n",
       "    <tr style=\"text-align: right;\">\n",
       "      <th></th>\n",
       "      <th>COMMENT_ID</th>\n",
       "      <th>AUTHOR</th>\n",
       "      <th>DATE</th>\n",
       "      <th>CONTENT</th>\n",
       "      <th>CLASS</th>\n",
       "    </tr>\n",
       "  </thead>\n",
       "  <tbody>\n",
       "    <tr>\n",
       "      <th>0</th>\n",
       "      <td>LZQPQhLyRh80UYxNuaDWhIGQYNQ96IuCg-AYWqNPjpU</td>\n",
       "      <td>Julius NM</td>\n",
       "      <td>2013-11-07T06:20:48</td>\n",
       "      <td>Huh, anyway check out this you[tube] channel: ...</td>\n",
       "      <td>1</td>\n",
       "    </tr>\n",
       "    <tr>\n",
       "      <th>1</th>\n",
       "      <td>LZQPQhLyRh_C2cTtd9MvFRJedxydaVW-2sNg5Diuo4A</td>\n",
       "      <td>adam riyati</td>\n",
       "      <td>2013-11-07T12:37:15</td>\n",
       "      <td>Hey guys check out my new channel and our firs...</td>\n",
       "      <td>1</td>\n",
       "    </tr>\n",
       "    <tr>\n",
       "      <th>2</th>\n",
       "      <td>LZQPQhLyRh9MSZYnf8djyk0gEF9BHDPYrrK-qCczIY8</td>\n",
       "      <td>Evgeny Murashkin</td>\n",
       "      <td>2013-11-08T17:34:21</td>\n",
       "      <td>just for test I have to say murdev.com</td>\n",
       "      <td>1</td>\n",
       "    </tr>\n",
       "    <tr>\n",
       "      <th>3</th>\n",
       "      <td>z13jhp0bxqncu512g22wvzkasxmvvzjaz04</td>\n",
       "      <td>ElNino Melendez</td>\n",
       "      <td>2013-11-09T08:28:43</td>\n",
       "      <td>me shaking my sexy ass on my channel enjoy ^_^ ﻿</td>\n",
       "      <td>1</td>\n",
       "    </tr>\n",
       "    <tr>\n",
       "      <th>4</th>\n",
       "      <td>z13fwbwp1oujthgqj04chlngpvzmtt3r3dw</td>\n",
       "      <td>GsMega</td>\n",
       "      <td>2013-11-10T16:05:38</td>\n",
       "      <td>watch?v=vtaRGgvGtWQ   Check this out .﻿</td>\n",
       "      <td>1</td>\n",
       "    </tr>\n",
       "  </tbody>\n",
       "</table>\n",
       "</div>"
      ],
      "text/plain": [
       "                                    COMMENT_ID            AUTHOR  \\\n",
       "0  LZQPQhLyRh80UYxNuaDWhIGQYNQ96IuCg-AYWqNPjpU         Julius NM   \n",
       "1  LZQPQhLyRh_C2cTtd9MvFRJedxydaVW-2sNg5Diuo4A       adam riyati   \n",
       "2  LZQPQhLyRh9MSZYnf8djyk0gEF9BHDPYrrK-qCczIY8  Evgeny Murashkin   \n",
       "3          z13jhp0bxqncu512g22wvzkasxmvvzjaz04   ElNino Melendez   \n",
       "4          z13fwbwp1oujthgqj04chlngpvzmtt3r3dw            GsMega   \n",
       "\n",
       "                  DATE                                            CONTENT  \\\n",
       "0  2013-11-07T06:20:48  Huh, anyway check out this you[tube] channel: ...   \n",
       "1  2013-11-07T12:37:15  Hey guys check out my new channel and our firs...   \n",
       "2  2013-11-08T17:34:21             just for test I have to say murdev.com   \n",
       "3  2013-11-09T08:28:43   me shaking my sexy ass on my channel enjoy ^_^ ﻿   \n",
       "4  2013-11-10T16:05:38            watch?v=vtaRGgvGtWQ   Check this out .﻿   \n",
       "\n",
       "   CLASS  \n",
       "0      1  \n",
       "1      1  \n",
       "2      1  \n",
       "3      1  \n",
       "4      1  "
      ]
     },
     "execution_count": 1,
     "metadata": {},
     "output_type": "execute_result"
    }
   ],
   "source": [
    "# Read the file\n",
    "import pandas as pd\n",
    "path_to_csv_file = './youtube-spam-collection-v1/Youtube01-Psy.csv'\n",
    "df = pd.read_csv(path_to_csv_file)\n",
    "\n",
    "df.head()"
   ]
  },
  {
   "cell_type": "code",
   "execution_count": 27,
   "metadata": {
    "id": "Lg6CQbPgi7T2",
    "outputId": "e9bb7cd0-2ae5-4891-8c3e-ac388c2a6239"
   },
   "outputs": [
    {
     "data": {
      "text/html": [
       "<div>\n",
       "<style scoped>\n",
       "    .dataframe tbody tr th:only-of-type {\n",
       "        vertical-align: middle;\n",
       "    }\n",
       "\n",
       "    .dataframe tbody tr th {\n",
       "        vertical-align: top;\n",
       "    }\n",
       "\n",
       "    .dataframe thead th {\n",
       "        text-align: right;\n",
       "    }\n",
       "</style>\n",
       "<table border=\"1\" class=\"dataframe\">\n",
       "  <thead>\n",
       "    <tr style=\"text-align: right;\">\n",
       "      <th></th>\n",
       "      <th>CONTENT</th>\n",
       "    </tr>\n",
       "  </thead>\n",
       "  <tbody>\n",
       "    <tr>\n",
       "      <th>0</th>\n",
       "      <td>Huh, anyway check out this you[tube] channel: ...</td>\n",
       "    </tr>\n",
       "    <tr>\n",
       "      <th>1</th>\n",
       "      <td>Hey guys check out my new channel and our firs...</td>\n",
       "    </tr>\n",
       "    <tr>\n",
       "      <th>2</th>\n",
       "      <td>just for test I have to say murdev.com</td>\n",
       "    </tr>\n",
       "    <tr>\n",
       "      <th>3</th>\n",
       "      <td>me shaking my sexy ass on my channel enjoy ^_^ ﻿</td>\n",
       "    </tr>\n",
       "    <tr>\n",
       "      <th>4</th>\n",
       "      <td>watch?v=vtaRGgvGtWQ   Check this out .﻿</td>\n",
       "    </tr>\n",
       "  </tbody>\n",
       "</table>\n",
       "</div>"
      ],
      "text/plain": [
       "                                             CONTENT\n",
       "0  Huh, anyway check out this you[tube] channel: ...\n",
       "1  Hey guys check out my new channel and our firs...\n",
       "2             just for test I have to say murdev.com\n",
       "3   me shaking my sexy ass on my channel enjoy ^_^ ﻿\n",
       "4            watch?v=vtaRGgvGtWQ   Check this out .﻿"
      ]
     },
     "execution_count": 27,
     "metadata": {},
     "output_type": "execute_result"
    }
   ],
   "source": [
    "# Retain only the CONTENT column\n",
    "df = df[['CONTENT']]\n",
    "df.head()"
   ]
  },
  {
   "cell_type": "markdown",
   "metadata": {
    "id": "Zp02pF5hi7T2"
   },
   "source": [
    "# Bringing it together: Youtube Comments\n",
    "\n",
    "Clean youtube comments and add hashtags and mentions in a new column.\n",
    "\n",
    "Let's Apply the clean_text(text, filter_tags_and_mentions=False) function to the youtube comments.\n",
    "\n",
    "In previous section we have implemented clean_text() function. Now we will apply it to the youtube comments.\n",
    "\n",
    "Amazing isn't it? 🚀.🚀.🚀.We have cleaned the youtube comments and added hashtags and mentions in a new column. 🚀.🚀.🚀.\n",
    "\n",
    "If we sample the dataset, we can see that the text is cleaned and hashtags and mentions are separated. \n",
    "\n",
    "<font color='red'>Run the cell below. </font>"
   ]
  },
  {
   "cell_type": "code",
   "execution_count": 28,
   "metadata": {
    "id": "aQnGOt7mi7T2",
    "outputId": "5559e2ed-706e-4c55-d39f-9116e090af93"
   },
   "outputs": [
    {
     "name": "stdout",
     "output_type": "stream",
     "text": [
      "CONTENT #2012bitches﻿\n",
      "HASHTAGS ['2012bitches\\ufeff']\n",
      "\n",
      "CONTENT You gotta say its funny. well not 2 billion worth funny but still. It  clicked and everything went uphill. At least you don't have JB's shit on  #1.﻿\n",
      "HASHTAGS ['1.\\ufeff']\n",
      "\n",
      "CONTENT It's so hard, sad :( iThat little child Actor HWANG MINOO dancing very  active child is suffering from brain tumor, only 6 month left for him .Hard  to believe .. Keep praying everyone for our future superstar.  #StrongLittlePsY #Fighting  SHARE EVERYONE PRAYING FOR HIM http://ygunited.com/2014/11/08/little-psy-from-the-has-brain-tumor-6-months-left-to-live/ ﻿\n",
      "HASHTAGS ['StrongLittlePsY', 'Fighting']\n",
      "\n"
     ]
    }
   ],
   "source": [
    "#create three empty columns - 'CLEANED_CONTENT', 'HASHTAGS', 'MENTIONS'\n",
    "df['CLEANED_CONTENT'] = ''\n",
    "df['HASHTAGS'] = ''\n",
    "df['MENTIONS'] = ''\n",
    "\n",
    "for i in range(len(df)):\n",
    "    text = df['CONTENT'][i]\n",
    "    text, hashtags, mentions = clean_text(text)\n",
    "    df['CLEANED_CONTENT'][i] = text\n",
    "    df['HASHTAGS'][i] = hashtags\n",
    "\n",
    "for i in range(len(df)):\n",
    "    # if CONTENT contains a hashtag, print row\n",
    "    if df['HASHTAGS'][i] != []:\n",
    "        #print CONTENT\n",
    "        print('CONTENT', df['CONTENT'][i])\n",
    "        #print HASHTAGS\n",
    "        print('HASHTAGS', df['HASHTAGS'][i])\n",
    "        print()"
   ]
  },
  {
   "cell_type": "markdown",
   "metadata": {},
   "source": [
    "We can also have a look at the first 5 rows of the data frame using the head() function.\n",
    "\n",
    "<font color=\"red\"> Run the cell below</font>"
   ]
  },
  {
   "cell_type": "code",
   "execution_count": 29,
   "metadata": {
    "id": "ZTjaKuIZi7T2",
    "outputId": "c155cad4-c1b0-41d6-cf4f-a3a2959a8ac4"
   },
   "outputs": [
    {
     "data": {
      "text/html": [
       "<div>\n",
       "<style scoped>\n",
       "    .dataframe tbody tr th:only-of-type {\n",
       "        vertical-align: middle;\n",
       "    }\n",
       "\n",
       "    .dataframe tbody tr th {\n",
       "        vertical-align: top;\n",
       "    }\n",
       "\n",
       "    .dataframe thead th {\n",
       "        text-align: right;\n",
       "    }\n",
       "</style>\n",
       "<table border=\"1\" class=\"dataframe\">\n",
       "  <thead>\n",
       "    <tr style=\"text-align: right;\">\n",
       "      <th></th>\n",
       "      <th>CONTENT</th>\n",
       "      <th>CLEANED_CONTENT</th>\n",
       "      <th>HASHTAGS</th>\n",
       "      <th>MENTIONS</th>\n",
       "    </tr>\n",
       "  </thead>\n",
       "  <tbody>\n",
       "    <tr>\n",
       "      <th>0</th>\n",
       "      <td>Huh, anyway check out this you[tube] channel: ...</td>\n",
       "      <td>[huh, anyway, check, tube, channel, kobyoshi02]</td>\n",
       "      <td>[]</td>\n",
       "      <td></td>\n",
       "    </tr>\n",
       "    <tr>\n",
       "      <th>1</th>\n",
       "      <td>Hey guys check out my new channel and our firs...</td>\n",
       "      <td>[hey, guy, check, new, channel, first, vid, us...</td>\n",
       "      <td>[]</td>\n",
       "      <td></td>\n",
       "    </tr>\n",
       "    <tr>\n",
       "      <th>2</th>\n",
       "      <td>just for test I have to say murdev.com</td>\n",
       "      <td>[test, say, murdev.com]</td>\n",
       "      <td>[]</td>\n",
       "      <td></td>\n",
       "    </tr>\n",
       "    <tr>\n",
       "      <th>3</th>\n",
       "      <td>me shaking my sexy ass on my channel enjoy ^_^ ﻿</td>\n",
       "      <td>[shake, sexi, ass, channel, enjoy]</td>\n",
       "      <td>[]</td>\n",
       "      <td></td>\n",
       "    </tr>\n",
       "    <tr>\n",
       "      <th>4</th>\n",
       "      <td>watch?v=vtaRGgvGtWQ   Check this out .﻿</td>\n",
       "      <td>[watch, v=vtarggvgtwq, check]</td>\n",
       "      <td>[]</td>\n",
       "      <td></td>\n",
       "    </tr>\n",
       "  </tbody>\n",
       "</table>\n",
       "</div>"
      ],
      "text/plain": [
       "                                             CONTENT  \\\n",
       "0  Huh, anyway check out this you[tube] channel: ...   \n",
       "1  Hey guys check out my new channel and our firs...   \n",
       "2             just for test I have to say murdev.com   \n",
       "3   me shaking my sexy ass on my channel enjoy ^_^ ﻿   \n",
       "4            watch?v=vtaRGgvGtWQ   Check this out .﻿   \n",
       "\n",
       "                                     CLEANED_CONTENT HASHTAGS MENTIONS  \n",
       "0    [huh, anyway, check, tube, channel, kobyoshi02]       []           \n",
       "1  [hey, guy, check, new, channel, first, vid, us...       []           \n",
       "2                            [test, say, murdev.com]       []           \n",
       "3                 [shake, sexi, ass, channel, enjoy]       []           \n",
       "4                      [watch, v=vtarggvgtwq, check]       []           "
      ]
     },
     "execution_count": 29,
     "metadata": {},
     "output_type": "execute_result"
    }
   ],
   "source": [
    "df.head()"
   ]
  },
  {
   "cell_type": "markdown",
   "metadata": {
    "id": "nCpRiMRdi7T2"
   },
   "source": [
    "# Visualize the frequency of words in the comments\n",
    "\n",
    "We will now visualize the youtube cleaned text. We will plot the counts/frequencies of the words in the text. Then we will plot the 10 most and least frequent words."
   ]
  },
  {
   "cell_type": "markdown",
   "metadata": {},
   "source": [
    "We will first combine all the youtube comments into one large corpus.\n",
    "\n",
    "<font color=\"red\"> Run the cell below</font>"
   ]
  },
  {
   "cell_type": "code",
   "execution_count": 30,
   "metadata": {},
   "outputs": [
    {
     "name": "stdout",
     "output_type": "stream",
     "text": [
      "input:\n",
      "['huh', 'anyway', 'check', 'tube', 'channel', 'kobyoshi02', 'hey', 'guy', 'check', 'new', 'channel', 'first', 'vid', 'us', 'monkey', 'monkey', 'white', 'shirt', 'pleas', 'leav', 'like', 'comment', 'pleas', 'subscrib', 'test', 'say', 'murdev.com', 'shake', 'sexi', 'ass', 'channel', 'enjoy', 'watch', 'v=vtarggvgtwq', 'check', 'hey', 'check', 'new', 'websit', 'site', 'kid', 'stuff', 'kidsmediausa', 'com', 'subscrib', 'channel', 'turn', 'mute', 'soon', 'came', 'want', 'check', 'view', 'check', 'channel', 'funni', 'video', 'u', 'should.d', 'check', 'channel', 'tell', 'next', 'hey', 'subscrib', 'me\\ufeff', 'onc', 'start', 'read', 'stop', 'subscrib', 'within', 'one', 'day', 'entir', 'famili', 'die', 'want', 'stay', 'aliv', 'subscrib', 'right', 'now.\\ufeff', 'subscrib', 'like', 'comment\\ufeff', 'pleas', 'like', 'hello', 'like', 'game', 'art', 'video', 'scientif', 'experi', 'tutori', 'lyric', 'video', 'much', 'much']\n"
     ]
    }
   ],
   "source": [
    "#Combine all the values of the CLEANED_CONTENT column into a single string.\n",
    "input = []\n",
    "\n",
    "for i in range(len(df)):\n",
    "    for token in df['CLEANED_CONTENT'][i]:\n",
    "        input.append(token)\n",
    "\n",
    "print('input:')\n",
    "print(input[:100])"
   ]
  },
  {
   "cell_type": "markdown",
   "metadata": {
    "id": "neu2s9xui7T2"
   },
   "source": [
    "# Question 11: Understanding how to count tokens\n",
    "\n",
    "Run the two cells below.\n",
    "\n",
    "1. <font color=\"red\"> Carefully understand what the code marked in ################################# is doing. Understand how it uses the Counter() object counts string stored in list. </font>\n",
    "2. <font color=\"red\"> Counter_words is now a Counter or *dictionary of counts** </font>"
   ]
  },
  {
   "cell_type": "code",
   "execution_count": 31,
   "metadata": {
    "id": "_bj9zawPi7T2",
    "outputId": "f6a9e2df-6b30-4c49-bcb2-2e4074511578"
   },
   "outputs": [],
   "source": [
    "#Answer 11:\n",
    "\n",
    "from collections import Counter # Counter is a dict subclass for counting words in a string of text\n",
    "\n",
    "\n",
    "\n",
    "def count_words(tokens):\n",
    "    \"\"\"Count the number of times each word occurs in text (str). Return dictionary where keys are unique words and values are word counts.\"\"\"\n",
    "\n",
    "    ################Understand this code################\n",
    "    #for each word in the list of words in column TOKENS, add the word to the counter\n",
    "\n",
    "    Counter_words = Counter()\n",
    "    Counter_words.update(tokens)\n",
    "    return Counter_words\n",
    "    ######################################################\n",
    "\n",
    "# Create a dictionary of word counts\n",
    "word_counts = count_words(input)"
   ]
  },
  {
   "cell_type": "markdown",
   "metadata": {},
   "source": [
    "Since word_counts is too large to print, we will print the first 10 elements of the dictionary."
   ]
  },
  {
   "cell_type": "code",
   "execution_count": 32,
   "metadata": {},
   "outputs": [
    {
     "name": "stdout",
     "output_type": "stream",
     "text": [
      "check 66\n",
      "view 62\n",
      "video 57\n",
      "subscrib 54\n",
      "like 43\n",
      "pleas 40\n",
      "channel 39\n",
      "2 39\n",
      "billion 38\n",
      "get 34\n"
     ]
    }
   ],
   "source": [
    "# Let us sort and print the most 10 common words in the comments.\n",
    "sorted_word_counts = sorted(word_counts.items(), key=lambda pair: pair[1], reverse=True)\n",
    "for word, count in sorted_word_counts[:10]:\n",
    "    print(word, count)"
   ]
  },
  {
   "cell_type": "markdown",
   "metadata": {},
   "source": [
    "### Now let us visualize the 50 most frequent words in the corpus\n",
    "\n",
    "<font color=\"red\"> Run the cell below</font>"
   ]
  },
  {
   "cell_type": "code",
   "execution_count": 33,
   "metadata": {
    "id": "7NU1qL_8i7T2",
    "outputId": "9b7be173-4d49-4f9c-d2af-99adc2ebcc84"
   },
   "outputs": [
    {
     "data": {
      "text/plain": [
       "<Axes: >"
      ]
     },
     "execution_count": 33,
     "metadata": {},
     "output_type": "execute_result"
    },
    {
     "data": {
      "image/png": "[encoded data removed]",
      "text/plain": [
       "<Figure size 1000x500 with 1 Axes>"
      ]
     },
     "metadata": {},
     "output_type": "display_data"
    }
   ],
   "source": [
    "# Let us plot the top 50 most frequent words in the comments.\n",
    "\n",
    "#ignore warning\n",
    "import warnings\n",
    "warnings.filterwarnings('ignore')\n",
    "\n",
    "import matplotlib.pyplot as plt\n",
    "import seaborn as sns\n",
    "\n",
    "sns.set_style('darkgrid')\n",
    "plt.figure(figsize=(10, 5))\n",
    "plt.xticks(fontsize=10, rotation=90)\n",
    "plt.yticks(fontsize=10)\n",
    "plt.ylim(0, 100)\n",
    "\n",
    "sns.barplot(x=[i[0] for i in sorted_word_counts[:50]], y=[i[1] for i in sorted_word_counts[:50]])"
   ]
  },
  {
   "cell_type": "markdown",
   "metadata": {},
   "source": [
    "### Now let us visualize the 50 least frequent words in the corpus\n",
    "\n",
    "<font color=\"red\"> Run the cell below</font>"
   ]
  },
  {
   "cell_type": "code",
   "execution_count": 34,
   "metadata": {},
   "outputs": [
    {
     "data": {
      "text/plain": [
       "<Axes: >"
      ]
     },
     "execution_count": 34,
     "metadata": {},
     "output_type": "execute_result"
    },
    {
     "data": {
      "text/plain": [
       "<Figure size 640x480 with 0 Axes>"
      ]
     },
     "metadata": {},
     "output_type": "display_data"
    },
    {
     "data": {
      "image/png": "[encoded data removed]",
      "text/plain": [
       "<Figure size 1000x500 with 1 Axes>"
      ]
     },
     "metadata": {},
     "output_type": "display_data"
    }
   ],
   "source": [
    "# Let us plot the top 50 least frequent words in the comments.\n",
    "\n",
    "#ignore warning\n",
    "import warnings\n",
    "warnings.filterwarnings('ignore')\n",
    "\n",
    "import matplotlib.pyplot as plt\n",
    "import seaborn as sns\n",
    "\n",
    "plt.clf() # clear the plot\n",
    "\n",
    "sns.set(style=\"darkgrid\")\n",
    "plt.figure(figsize=(10, 5))\n",
    "plt.xticks(fontsize=10, rotation=90)\n",
    "plt.yticks(fontsize=10)\n",
    "plt.ylim(0, 100)\n",
    "sns.barplot(x=[i[0] for i in sorted_word_counts[-50:]], y=[i[1] for i in sorted_word_counts[-50:]]) "
   ]
  },
  {
   "cell_type": "code",
   "execution_count": 35,
   "metadata": {},
   "outputs": [
    {
     "name": "stdout",
     "output_type": "stream",
     "text": [
      "Least frequent words:\n",
      "[('window', 1), ('hahah', 1), ('juyk', 1), ('allway', 1), ('1:57', 1), ('00:58', 1), ('haha', 1), ('western', 1), ('goe', 1), ('imagin', 1), ('adsens', 1), ('morgage\\ufeff', 1), ('forget', 1), ('thanks.\\ufeff', 1), ('train', 1), ('outfit', 1), ('huge', 1), ('turn-off', 1), ('lack', 1), ('eyebrow', 1), ('difficult', 1), ('entertain', 1), ('shotgun', 1), ('ninja', 1), ('defus', 1), ('troll', 1), ('certain', 1), ('amount', 1), ('frigea', 1), ('marius', 1), ('gabriel', 1), ('bing', 1), ('reward', 1), ('cant', 1), ('virus', 1), ('blue', 1), ('4th', 1), ('sold', 1), ('worldwid', 1), ('1m', 1), ('crdit', 1), ('smh\\ufeff', 1), ('someth', 1), ('lool', 1), ('hear', 1), ('duti', 1), ('goal-100', 1), ('photo', 1), ('editor', 1), ('thought', 1)]\n"
     ]
    }
   ],
   "source": [
    "print(\"Least frequent words:\")\n",
    "print(sorted_word_counts[-50:])"
   ]
  },
  {
   "cell_type": "markdown",
   "metadata": {},
   "source": [
    "# Question 12: Word frequency distribution\n",
    "\n",
    "Observe the plots of the most and least frequent words in the corpus. \n",
    "\n",
    "How do the counts of the most frequent words compare to the least frequent words?\n",
    "\n",
    "<font color='red'> Enter your answer in the cell below. </font>"
   ]
  },
  {
   "cell_type": "markdown",
   "metadata": {},
   "source": [
    "# Answer 12:\n",
    "\n",
    "<font color=\"red\">\n",
    "################################Enter your answer here###################### </font>\n"
   ]
  },
  {
   "cell_type": "markdown",
   "metadata": {
    "id": "IkM0zosFi7T2"
   },
   "source": [
    "# Lemmatization\n",
    "Lemmatization is the process of grouping together the different inflected forms of a word so they can be analysed as a single item.\n",
    "\n",
    "The difference between lemmatizers and stemmers output is that the output of lemmatizers are all actual words. \n",
    "\n",
    "This is because lemmatizers use a dictionary to map words to their root forms. Stemmers, on the other hand, use an algorithm to generate the root form of the word. This is why the output of stemmers are not actual words.\n",
    "\n",
    "The *WordNetLemmatizer* class in the nltk library is used to lemmatize words. \n",
    "\n",
    "<font color='red'>Run the cells below to see how lemmatization works.</font>"
   ]
  },
  {
   "cell_type": "code",
   "execution_count": 36,
   "metadata": {
    "id": "MU2wy-sui7T2",
    "outputId": "180a0502-f749-4f43-96bb-e7d9cafa8302"
   },
   "outputs": [
    {
     "name": "stderr",
     "output_type": "stream",
     "text": [
      "[nltk_data] Downloading package wordnet to /root/nltk_data...\n",
      "[nltk_data]   Package wordnet is already up-to-date!\n",
      "[nltk_data] Downloading package omw-1.4 to /root/nltk_data...\n",
      "[nltk_data]   Package omw-1.4 is already up-to-date!\n"
     ]
    },
    {
     "data": {
      "text/plain": [
       "True"
      ]
     },
     "execution_count": 36,
     "metadata": {},
     "output_type": "execute_result"
    }
   ],
   "source": [
    "# Download the wordnet packages for the wordnet lemmatizer\n",
    "\n",
    "from nltk.stem import WordNetLemmatizer\n",
    "nltk.download(\"wordnet\")\n",
    "nltk.download(\"omw-1.4\")"
   ]
  },
  {
   "cell_type": "code",
   "execution_count": 37,
   "metadata": {
    "id": "LTN7i67ii7T3",
    "outputId": "a1f45aae-6447-4202-d63b-dd5be224892f"
   },
   "outputs": [
    {
     "name": "stdout",
     "output_type": "stream",
     "text": [
      "SB Stemmer\n",
      "learnt ---> learnt\n",
      "learnability ---> learnabl\n",
      "atypicality ---> atyp\n",
      "this ---> this\n",
      "programer ---> program\n",
      "programers ---> program\n",
      "programs ---> program\n",
      "\n",
      "\n",
      "\n",
      "WordNet Lemmatizer\n",
      "learnt ---> learnt\n",
      "learnability ---> learnability\n",
      "atypicality ---> atypicality\n",
      "this ---> this\n",
      "programer ---> programer\n",
      "programers ---> programers\n",
      "programs ---> program\n"
     ]
    }
   ],
   "source": [
    "# Stemming is the process of reducing a word to its stem form. For example, learning, learns, learned are all reduced to learn.\n",
    "# Lemmatization is the process of reducing a word to its lemma or dictionary form. For example, learned, learnt are all reduced to learn.\n",
    "\n",
    "\n",
    "# Note how the stemmer is more aggressive than the lemmatizer. The stemmer reduces words to their stem form without considering the context of the sentence. The lemmatizer considers the context of the sentence and reduces the word to its lemma form.\n",
    "\n",
    "# Let's use the snowball stemmer to stem the words.\n",
    "import nltk\n",
    "from nltk.stem import SnowballStemmer\n",
    "snowball = SnowballStemmer(language='english')\n",
    "\n",
    "# Example inflections to reduce\n",
    "words = ['learnt', 'learnability', 'atypicality', 'this',\"programer\",\"programers\",\"programs\"]\n",
    "\n",
    "print(\"SB Stemmer\")\n",
    "for word in words:\n",
    "    print(word,\"--->\",snowball.stem(word))\n",
    "\n",
    "# Let's use the WordNetLemmatizer to lemmatize the words.\n",
    "\n",
    "\n",
    "\n",
    "from nltk.stem import WordNetLemmatizer\n",
    "lemmatizer = WordNetLemmatizer()\n",
    "\n",
    "print(\"\\n\\n\\nWordNet Lemmatizer\")\n",
    "for word in words:\n",
    "    print(word,\"--->\",lemmatizer.lemmatize(word))\n"
   ]
  },
  {
   "cell_type": "markdown",
   "metadata": {
    "id": "h8S37Y_Yi7T3"
   },
   "source": [
    "#### You’ve seen how to implement both techniques, but how do they compare?\n",
    "\n",
    "The main differences between stemming and lemmatization lay in how each technique arrives at the objective of reducing inflected words to a common base root.\n",
    "\n",
    "Stemming algorithms attempt to find the common base roots of various inflections by cutting off the endings or beginnings of the word.\n",
    "The chop is based on a list of common prefixes and suffixes that can typically be found in inflected words.\n",
    "This non-discriminatory nature act of chopping words may occasionally lead to finding meaningful word stems, but other times it does not.\n",
    "\n",
    "\n",
    "\n",
    "On the other hand, lemmatization algorithms attempt to find common base roots from inflected words by conducting a morphological analysis.\n",
    "To accurately reduce inflections, a detailed dictionary must be kept so the algorithm can search through to link an inflected word back to its lemma."
   ]
  },
  {
   "cell_type": "markdown",
   "metadata": {
    "id": "Y8MXyLali7T3"
   },
   "source": [
    "The crude heuristic approach taken by stemming algorithms typically means they’re fast and efficient but not always accurate.\n",
    "In contrast, lemmatization algorithms sacrifice speed and efficiency for accuracy, thus, resulting in meaningful base roots.\n",
    "\n",
    "Hence, for accuracy choose lemmatization over stemming. For speed and efficiency, choose stemming over lemmatization."
   ]
  },
  {
   "cell_type": "code",
   "execution_count": null,
   "metadata": {
    "id": "4QDFIZImi7T3"
   },
   "outputs": [],
   "source": [
    "Possible references:\n",
    "\n",
    "https://datascience.stackexchange.com/questions/57191/is-there-a-good-german-stemmer\n",
    "\n"
   ]
  },
  {
   "cell_type": "code",
   "execution_count": null,
   "metadata": {
    "id": "UJM4XrSvi7T3"
   },
   "outputs": [],
   "source": []
  },
  {
   "cell_type": "code",
   "execution_count": null,
   "metadata": {
    "id": "1YK81quji7T3"
   },
   "outputs": [],
   "source": []
  },
  {
   "cell_type": "code",
   "execution_count": null,
   "metadata": {
    "id": "cAphLFhAi7T3"
   },
   "outputs": [],
   "source": []
  },
  {
   "cell_type": "code",
   "execution_count": null,
   "metadata": {
    "id": "G_i2sn9wi7T3"
   },
   "outputs": [],
   "source": []
  }
 ],
 "metadata": {
  "colab": {
   "provenance": [],
   "toc_visible": true
  },
  "kernelspec": {
   "display_name": "comp_ling",
   "language": "python",
   "name": "python3"
  },
  "language_info": {
   "codemirror_mode": {
    "name": "ipython",
    "version": 3
   },
   "file_extension": ".py",
   "mimetype": "text/x-python",
   "name": "python",
   "nbconvert_exporter": "python",
   "pygments_lexer": "ipython3",
   "version": "3.8.0"
  },
  "orig_nbformat": 4
 },
 "nbformat": 4,
 "nbformat_minor": 0
}
